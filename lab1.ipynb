{
  "cells": [
    {
      "cell_type": "markdown",
      "metadata": {
        "id": "rlqr035nefbn"
      },
      "source": [
        "ИИБАмд-11 Варкентин Мария. Лабораторная работа по ИИАС №1.\n",
        "1. Руководитель: Гуськов Г.Ю.\n",
        "Примерная тема магистерской: Обнаружение депрессии из текстов пользователей в социальных сетях.\n",
        "2. Несколько задач для решения в рамках дисциплины:\n",
        "* Изучить pandas и numpy;\n",
        "* Изучить методы обработки есстественного языка: токенизация, стемминг, word augmentation и др.\n",
        "3. Датасет с названием \"Depression student dataset\" найден на Kaggle\n",
        "4. Выполнить следующие операции по работе с данными:\n",
        "* загрузка и сохранение данных;"
      ]
    },
    {
      "cell_type": "code",
      "execution_count": null,
      "metadata": {
        "colab": {
          "base_uri": "https://localhost:8080/"
        },
        "id": "uyt4_6lgefbq",
        "outputId": "d05ae182-1bf8-469f-b4a1-6c628a1bc3b7"
      },
      "outputs": [
        {
          "output_type": "stream",
          "name": "stdout",
          "text": [
            "Warning: Looks like you're using an outdated `kagglehub` version (installed: 0.3.6), please consider upgrading to the latest version (0.3.7).\n",
            "Downloading from https://www.kaggle.com/api/v1/datasets/download/ikynahidwin/depression-student-dataset?dataset_version_number=1...\n"
          ]
        },
        {
          "output_type": "stream",
          "name": "stderr",
          "text": [
            "100%|██████████| 4.25k/4.25k [00:00<00:00, 6.67MB/s]"
          ]
        },
        {
          "output_type": "stream",
          "name": "stdout",
          "text": [
            "Extracting files...\n",
            "Path to dataset files: /root/.cache/kagglehub/datasets/ikynahidwin/depression-student-dataset/versions/1\n"
          ]
        },
        {
          "output_type": "stream",
          "name": "stderr",
          "text": [
            "\n"
          ]
        }
      ],
      "source": [
        "import matplotlib.pyplot as plt\n",
        "import pandas as pd\n",
        "import numpy as np\n",
        "import kagglehub\n",
        "# Download latest version\n",
        "path = kagglehub.dataset_download(\"ikynahidwin/depression-student-dataset\")\n",
        "\n",
        "print(\"Path to dataset files:\", path)\n",
        "\n",
        "df = pd.read_csv(path + \"/Depression Student Dataset.csv\")\n",
        "df.to_csv(\"data\\Depression Student Dataset.csv\")"
      ]
    },
    {
      "cell_type": "markdown",
      "metadata": {
        "id": "cT2rNyOKefbs"
      },
      "source": [
        "* получение сведений о данных;"
      ]
    },
    {
      "cell_type": "code",
      "execution_count": null,
      "metadata": {
        "colab": {
          "base_uri": "https://localhost:8080/"
        },
        "id": "rqKE3mYVefbt",
        "outputId": "741986cd-7b29-4d45-d62f-fb26c13964c5"
      },
      "outputs": [
        {
          "output_type": "stream",
          "name": "stdout",
          "text": [
            "<class 'pandas.core.frame.DataFrame'>\n",
            "RangeIndex: 502 entries, 0 to 501\n",
            "Data columns (total 11 columns):\n",
            " #   Column                                 Non-Null Count  Dtype  \n",
            "---  ------                                 --------------  -----  \n",
            " 0   Gender                                 502 non-null    object \n",
            " 1   Age                                    502 non-null    int64  \n",
            " 2   Academic Pressure                      502 non-null    float64\n",
            " 3   Study Satisfaction                     502 non-null    float64\n",
            " 4   Sleep Duration                         502 non-null    object \n",
            " 5   Dietary Habits                         502 non-null    object \n",
            " 6   Have you ever had suicidal thoughts ?  502 non-null    object \n",
            " 7   Study Hours                            502 non-null    int64  \n",
            " 8   Financial Stress                       502 non-null    int64  \n",
            " 9   Family History of Mental Illness       502 non-null    object \n",
            " 10  Depression                             502 non-null    object \n",
            "dtypes: float64(2), int64(3), object(6)\n",
            "memory usage: 43.3+ KB\n"
          ]
        }
      ],
      "source": [
        "df.info()"
      ]
    },
    {
      "cell_type": "markdown",
      "metadata": {
        "id": "f76tuynJefbt"
      },
      "source": [
        "* Вывод отдельных строки и столбцов из таблицы"
      ]
    },
    {
      "cell_type": "code",
      "execution_count": null,
      "metadata": {
        "colab": {
          "base_uri": "https://localhost:8080/"
        },
        "id": "yZRoHhTdefbt",
        "outputId": "e1881d66-c290-46ca-bcc5-99f8f1c83c95"
      },
      "outputs": [
        {
          "output_type": "stream",
          "name": "stdout",
          "text": [
            "0      28\n",
            "1      28\n",
            "2      25\n",
            "3      23\n",
            "4      31\n",
            "       ..\n",
            "497    26\n",
            "498    24\n",
            "499    23\n",
            "500    33\n",
            "501    18\n",
            "Name: Age, Length: 502, dtype: int64\n",
            "0       No\n",
            "1       No\n",
            "2      Yes\n",
            "3       No\n",
            "4       No\n",
            "      ... \n",
            "497    Yes\n",
            "498    Yes\n",
            "499     No\n",
            "500     No\n",
            "501    Yes\n",
            "Name: Depression, Length: 502, dtype: object\n",
            "  Gender  Age  Academic Pressure  Study Satisfaction Sleep Duration  \\\n",
            "0   Male   28                2.0                 4.0      7-8 hours   \n",
            "1   Male   28                4.0                 5.0      5-6 hours   \n",
            "2   Male   25                1.0                 3.0      5-6 hours   \n",
            "\n",
            "  Dietary Habits Have you ever had suicidal thoughts ?  Study Hours  \\\n",
            "0       Moderate                                   Yes            9   \n",
            "1        Healthy                                   Yes            7   \n",
            "2      Unhealthy                                   Yes           10   \n",
            "\n",
            "   Financial Stress Family History of Mental Illness Depression  \n",
            "0                 2                              Yes         No  \n",
            "1                 1                              Yes         No  \n",
            "2                 4                               No        Yes  \n",
            "Age               24\n",
            "Gender        Female\n",
            "Depression       Yes\n",
            "Name: 100, dtype: object\n"
          ]
        }
      ],
      "source": [
        "# столбец Age\n",
        "print(df[\"Age\"])\n",
        "# столбец Depression\n",
        "print(df[\"Depression\"])\n",
        "# первые 3 строки датафрейма\n",
        "print(df.head(3))\n",
        "# строка 100 столбцы Age, Gender, Depression\n",
        "print(df.loc[100, [\"Age\", \"Gender\", \"Depression\"]])"
      ]
    },
    {
      "cell_type": "markdown",
      "metadata": {
        "id": "vF-ZGyVcefbu"
      },
      "source": [
        "* группировка и агрегация данных в таблице;"
      ]
    },
    {
      "cell_type": "code",
      "execution_count": null,
      "metadata": {
        "colab": {
          "base_uri": "https://localhost:8080/"
        },
        "id": "uKoegFTkefbu",
        "outputId": "0c4f4999-d49a-450e-9f21-6bd976641f38"
      },
      "outputs": [
        {
          "output_type": "stream",
          "name": "stdout",
          "text": [
            "['7-8 hours' '5-6 hours' 'More than 8 hours' 'Less than 5 hours']\n",
            "7-8 hours count = 128\n",
            "5-6 hours count = 123\n",
            "More than 8 hours count = 128\n",
            "Less than 5 hours count = 123\n",
            "Total count = 502\n",
            "  Have you ever had suicidal thoughts ? Depression  Count\n",
            "0                                    No         No    179\n",
            "1                                    No        Yes     63\n",
            "2                                   Yes         No     71\n",
            "3                                   Yes        Yes    189\n"
          ]
        }
      ],
      "source": [
        "# смотрим уникальные значения столбца \"Sleep Duration\"\n",
        "sleep_values = df[\"Sleep Duration\"].unique()\n",
        "print(sleep_values)\n",
        "\n",
        "# считаем количество строк, соответсвующих каждому значению \"Sleep Duration\"\n",
        "sleep_total = 0\n",
        "for sleep_value in sleep_values:\n",
        "    count = df[df[\"Sleep Duration\"] == sleep_value].shape[0]\n",
        "    sleep_total += count\n",
        "    print(sleep_value, \"count =\", count)\n",
        "# считаем сколько всего строк содержат значения в столбце \"Sleep Duration\"\n",
        "print(\"Total count =\", sleep_total)\n",
        "\n",
        "# группируем строки по значениям столбцов \"Have you ever had suicidal thoughts ?\"\n",
        "# и \"Depression\" и считаем количество\n",
        "print(df.groupby([\"Have you ever had suicidal thoughts ?\", \"Depression\"]).size().reset_index(name=\"Count\"))"
      ]
    },
    {
      "cell_type": "markdown",
      "metadata": {
        "id": "xbMWNxLPefbu"
      },
      "source": [
        "* сортировка данных в таблице;"
      ]
    },
    {
      "cell_type": "code",
      "execution_count": null,
      "metadata": {
        "colab": {
          "base_uri": "https://localhost:8080/"
        },
        "id": "Wkc07rz3efbv",
        "outputId": "2185815c-e266-4e09-a83e-fe916354d460"
      },
      "outputs": [
        {
          "output_type": "stream",
          "name": "stdout",
          "text": [
            "     Gender  Age Depression\n",
            "501    Male   18        Yes\n",
            "85     Male   18        Yes\n",
            "255    Male   18        Yes\n",
            "254    Male   18         No\n",
            "325  Female   18        Yes\n",
            "     Gender  Age Depression\n",
            "439  Female   34         No\n",
            "249  Female   34         No\n",
            "473  Female   34         No\n",
            "275    Male   34         No\n",
            "205  Female   34        Yes\n"
          ]
        }
      ],
      "source": [
        "# сортируем датафрейм по возрасту (только столбцы \"Gender\", \"Age\", \"Depression\")\n",
        "sorted_df = df[[\"Gender\", \"Age\", \"Depression\"]].sort_values(by=\"Age\")\n",
        "# выводим первые 5 строк\n",
        "print(sorted_df.head())\n",
        "# и последние 5 строк отсортированного датафрейма\n",
        "print(sorted_df.tail())"
      ]
    },
    {
      "cell_type": "markdown",
      "metadata": {
        "id": "Yjny8p1-efbv"
      },
      "source": [
        "* удаление строк/столбцов;"
      ]
    },
    {
      "cell_type": "code",
      "execution_count": null,
      "metadata": {
        "colab": {
          "base_uri": "https://localhost:8080/"
        },
        "id": "We8NaIp2efbv",
        "outputId": "11baf6fb-5419-4f72-bd05-adfd0327a82a"
      },
      "outputs": [
        {
          "output_type": "stream",
          "name": "stdout",
          "text": [
            "     Age Depression\n",
            "501   18        Yes\n",
            "85    18        Yes\n",
            "255   18        Yes\n",
            "254   18         No\n",
            "325   18        Yes\n",
            "     Gender  Age Depression\n",
            "261  Female   19         No\n",
            "104    Male   19         No\n",
            "105  Female   19        Yes\n",
            "246  Female   19         No\n",
            "129  Female   19        Yes\n"
          ]
        }
      ],
      "source": [
        "# удаляем столбец \"Gender\"\n",
        "print(sorted_df.drop(\"Gender\",axis=1).head())\n",
        "# удаляем все записи (строки) о 18-летних\n",
        "print(sorted_df.drop(sorted_df[sorted_df[\"Age\"] == 18].index, axis=0).head())"
      ]
    },
    {
      "cell_type": "markdown",
      "metadata": {
        "id": "y3xsCzRxefbv"
      },
      "source": [
        "* удаление строк с пустыми значениями;"
      ]
    },
    {
      "cell_type": "code",
      "execution_count": null,
      "metadata": {
        "colab": {
          "base_uri": "https://localhost:8080/"
        },
        "id": "rFv-TZU3efbw",
        "outputId": "8911326b-7687-418a-c644-de8ac5401062"
      },
      "outputs": [
        {
          "output_type": "stream",
          "name": "stdout",
          "text": [
            "     Gender   Age Depression\n",
            "0      Male  18.0        Yes\n",
            "1      Male  18.0        Yes\n",
            "2      Male  18.0        Yes\n",
            "3      Male  18.0         No\n",
            "4    Female  18.0        Yes\n",
            "..      ...   ...        ...\n",
            "499  Female  34.0         No\n",
            "500    Male  34.0         No\n",
            "501  Female  34.0        Yes\n",
            "502    Male   NaN        Yes\n",
            "503  Female   NaN         No\n",
            "\n",
            "[504 rows x 3 columns]\n",
            "     Gender   Age Depression\n",
            "0      Male  18.0        Yes\n",
            "1      Male  18.0        Yes\n",
            "2      Male  18.0        Yes\n",
            "3      Male  18.0         No\n",
            "4    Female  18.0        Yes\n",
            "..      ...   ...        ...\n",
            "497  Female  34.0         No\n",
            "498  Female  34.0         No\n",
            "499  Female  34.0         No\n",
            "500    Male  34.0         No\n",
            "501  Female  34.0        Yes\n",
            "\n",
            "[502 rows x 3 columns]\n"
          ]
        }
      ],
      "source": [
        "data = sorted_df.copy()\n",
        "\n",
        "# Добавляем строку с пустым значением. Способ №1\n",
        "new_row = pd.DataFrame({\"Gender\" : [\"Male\"], \"Depression\" : [\"Yes\"]})\n",
        "data = pd.concat([data, new_row], ignore_index=True)\n",
        "# Добавляем строку с пустым значением. Способ №2\n",
        "data.loc[len(data)] = [\"Female\", np.nan, \"No\"]\n",
        "\n",
        "print(data)\n",
        "# удаление строк с пустыми значениями\n",
        "data.dropna(subset=[\"Age\"], inplace=True)\n",
        "print(data)"
      ]
    },
    {
      "cell_type": "markdown",
      "metadata": {
        "id": "FDVfWaOhefbw"
      },
      "source": [
        "* заполнение пустых значений на основе существующих данных."
      ]
    },
    {
      "cell_type": "code",
      "execution_count": null,
      "metadata": {
        "colab": {
          "base_uri": "https://localhost:8080/",
          "height": 206
        },
        "id": "9CBij2xuefbw",
        "outputId": "d55e6caa-1d7e-4bbc-9f26-a83e90051212"
      },
      "outputs": [
        {
          "output_type": "execute_result",
          "data": {
            "text/plain": [
              "     Gender   Age Depression\n",
              "498  Female  34.0         No\n",
              "499  Female  34.0         No\n",
              "500    Male  34.0         No\n",
              "501  Female  34.0        Yes\n",
              "502    Male  34.0        Yes"
            ],
            "text/html": [
              "\n",
              "  <div id=\"df-ccd728da-a557-4391-b6ff-9a736c60f787\" class=\"colab-df-container\">\n",
              "    <div>\n",
              "<style scoped>\n",
              "    .dataframe tbody tr th:only-of-type {\n",
              "        vertical-align: middle;\n",
              "    }\n",
              "\n",
              "    .dataframe tbody tr th {\n",
              "        vertical-align: top;\n",
              "    }\n",
              "\n",
              "    .dataframe thead th {\n",
              "        text-align: right;\n",
              "    }\n",
              "</style>\n",
              "<table border=\"1\" class=\"dataframe\">\n",
              "  <thead>\n",
              "    <tr style=\"text-align: right;\">\n",
              "      <th></th>\n",
              "      <th>Gender</th>\n",
              "      <th>Age</th>\n",
              "      <th>Depression</th>\n",
              "    </tr>\n",
              "  </thead>\n",
              "  <tbody>\n",
              "    <tr>\n",
              "      <th>498</th>\n",
              "      <td>Female</td>\n",
              "      <td>34.0</td>\n",
              "      <td>No</td>\n",
              "    </tr>\n",
              "    <tr>\n",
              "      <th>499</th>\n",
              "      <td>Female</td>\n",
              "      <td>34.0</td>\n",
              "      <td>No</td>\n",
              "    </tr>\n",
              "    <tr>\n",
              "      <th>500</th>\n",
              "      <td>Male</td>\n",
              "      <td>34.0</td>\n",
              "      <td>No</td>\n",
              "    </tr>\n",
              "    <tr>\n",
              "      <th>501</th>\n",
              "      <td>Female</td>\n",
              "      <td>34.0</td>\n",
              "      <td>Yes</td>\n",
              "    </tr>\n",
              "    <tr>\n",
              "      <th>502</th>\n",
              "      <td>Male</td>\n",
              "      <td>34.0</td>\n",
              "      <td>Yes</td>\n",
              "    </tr>\n",
              "  </tbody>\n",
              "</table>\n",
              "</div>\n",
              "    <div class=\"colab-df-buttons\">\n",
              "\n",
              "  <div class=\"colab-df-container\">\n",
              "    <button class=\"colab-df-convert\" onclick=\"convertToInteractive('df-ccd728da-a557-4391-b6ff-9a736c60f787')\"\n",
              "            title=\"Convert this dataframe to an interactive table.\"\n",
              "            style=\"display:none;\">\n",
              "\n",
              "  <svg xmlns=\"http://www.w3.org/2000/svg\" height=\"24px\" viewBox=\"0 -960 960 960\">\n",
              "    <path d=\"M120-120v-720h720v720H120Zm60-500h600v-160H180v160Zm220 220h160v-160H400v160Zm0 220h160v-160H400v160ZM180-400h160v-160H180v160Zm440 0h160v-160H620v160ZM180-180h160v-160H180v160Zm440 0h160v-160H620v160Z\"/>\n",
              "  </svg>\n",
              "    </button>\n",
              "\n",
              "  <style>\n",
              "    .colab-df-container {\n",
              "      display:flex;\n",
              "      gap: 12px;\n",
              "    }\n",
              "\n",
              "    .colab-df-convert {\n",
              "      background-color: #E8F0FE;\n",
              "      border: none;\n",
              "      border-radius: 50%;\n",
              "      cursor: pointer;\n",
              "      display: none;\n",
              "      fill: #1967D2;\n",
              "      height: 32px;\n",
              "      padding: 0 0 0 0;\n",
              "      width: 32px;\n",
              "    }\n",
              "\n",
              "    .colab-df-convert:hover {\n",
              "      background-color: #E2EBFA;\n",
              "      box-shadow: 0px 1px 2px rgba(60, 64, 67, 0.3), 0px 1px 3px 1px rgba(60, 64, 67, 0.15);\n",
              "      fill: #174EA6;\n",
              "    }\n",
              "\n",
              "    .colab-df-buttons div {\n",
              "      margin-bottom: 4px;\n",
              "    }\n",
              "\n",
              "    [theme=dark] .colab-df-convert {\n",
              "      background-color: #3B4455;\n",
              "      fill: #D2E3FC;\n",
              "    }\n",
              "\n",
              "    [theme=dark] .colab-df-convert:hover {\n",
              "      background-color: #434B5C;\n",
              "      box-shadow: 0px 1px 3px 1px rgba(0, 0, 0, 0.15);\n",
              "      filter: drop-shadow(0px 1px 2px rgba(0, 0, 0, 0.3));\n",
              "      fill: #FFFFFF;\n",
              "    }\n",
              "  </style>\n",
              "\n",
              "    <script>\n",
              "      const buttonEl =\n",
              "        document.querySelector('#df-ccd728da-a557-4391-b6ff-9a736c60f787 button.colab-df-convert');\n",
              "      buttonEl.style.display =\n",
              "        google.colab.kernel.accessAllowed ? 'block' : 'none';\n",
              "\n",
              "      async function convertToInteractive(key) {\n",
              "        const element = document.querySelector('#df-ccd728da-a557-4391-b6ff-9a736c60f787');\n",
              "        const dataTable =\n",
              "          await google.colab.kernel.invokeFunction('convertToInteractive',\n",
              "                                                    [key], {});\n",
              "        if (!dataTable) return;\n",
              "\n",
              "        const docLinkHtml = 'Like what you see? Visit the ' +\n",
              "          '<a target=\"_blank\" href=https://colab.research.google.com/notebooks/data_table.ipynb>data table notebook</a>'\n",
              "          + ' to learn more about interactive tables.';\n",
              "        element.innerHTML = '';\n",
              "        dataTable['output_type'] = 'display_data';\n",
              "        await google.colab.output.renderOutput(dataTable, element);\n",
              "        const docLink = document.createElement('div');\n",
              "        docLink.innerHTML = docLinkHtml;\n",
              "        element.appendChild(docLink);\n",
              "      }\n",
              "    </script>\n",
              "  </div>\n",
              "\n",
              "\n",
              "<div id=\"df-b056883e-b59b-444d-8e89-a210dc380ea4\">\n",
              "  <button class=\"colab-df-quickchart\" onclick=\"quickchart('df-b056883e-b59b-444d-8e89-a210dc380ea4')\"\n",
              "            title=\"Suggest charts\"\n",
              "            style=\"display:none;\">\n",
              "\n",
              "<svg xmlns=\"http://www.w3.org/2000/svg\" height=\"24px\"viewBox=\"0 0 24 24\"\n",
              "     width=\"24px\">\n",
              "    <g>\n",
              "        <path d=\"M19 3H5c-1.1 0-2 .9-2 2v14c0 1.1.9 2 2 2h14c1.1 0 2-.9 2-2V5c0-1.1-.9-2-2-2zM9 17H7v-7h2v7zm4 0h-2V7h2v10zm4 0h-2v-4h2v4z\"/>\n",
              "    </g>\n",
              "</svg>\n",
              "  </button>\n",
              "\n",
              "<style>\n",
              "  .colab-df-quickchart {\n",
              "      --bg-color: #E8F0FE;\n",
              "      --fill-color: #1967D2;\n",
              "      --hover-bg-color: #E2EBFA;\n",
              "      --hover-fill-color: #174EA6;\n",
              "      --disabled-fill-color: #AAA;\n",
              "      --disabled-bg-color: #DDD;\n",
              "  }\n",
              "\n",
              "  [theme=dark] .colab-df-quickchart {\n",
              "      --bg-color: #3B4455;\n",
              "      --fill-color: #D2E3FC;\n",
              "      --hover-bg-color: #434B5C;\n",
              "      --hover-fill-color: #FFFFFF;\n",
              "      --disabled-bg-color: #3B4455;\n",
              "      --disabled-fill-color: #666;\n",
              "  }\n",
              "\n",
              "  .colab-df-quickchart {\n",
              "    background-color: var(--bg-color);\n",
              "    border: none;\n",
              "    border-radius: 50%;\n",
              "    cursor: pointer;\n",
              "    display: none;\n",
              "    fill: var(--fill-color);\n",
              "    height: 32px;\n",
              "    padding: 0;\n",
              "    width: 32px;\n",
              "  }\n",
              "\n",
              "  .colab-df-quickchart:hover {\n",
              "    background-color: var(--hover-bg-color);\n",
              "    box-shadow: 0 1px 2px rgba(60, 64, 67, 0.3), 0 1px 3px 1px rgba(60, 64, 67, 0.15);\n",
              "    fill: var(--button-hover-fill-color);\n",
              "  }\n",
              "\n",
              "  .colab-df-quickchart-complete:disabled,\n",
              "  .colab-df-quickchart-complete:disabled:hover {\n",
              "    background-color: var(--disabled-bg-color);\n",
              "    fill: var(--disabled-fill-color);\n",
              "    box-shadow: none;\n",
              "  }\n",
              "\n",
              "  .colab-df-spinner {\n",
              "    border: 2px solid var(--fill-color);\n",
              "    border-color: transparent;\n",
              "    border-bottom-color: var(--fill-color);\n",
              "    animation:\n",
              "      spin 1s steps(1) infinite;\n",
              "  }\n",
              "\n",
              "  @keyframes spin {\n",
              "    0% {\n",
              "      border-color: transparent;\n",
              "      border-bottom-color: var(--fill-color);\n",
              "      border-left-color: var(--fill-color);\n",
              "    }\n",
              "    20% {\n",
              "      border-color: transparent;\n",
              "      border-left-color: var(--fill-color);\n",
              "      border-top-color: var(--fill-color);\n",
              "    }\n",
              "    30% {\n",
              "      border-color: transparent;\n",
              "      border-left-color: var(--fill-color);\n",
              "      border-top-color: var(--fill-color);\n",
              "      border-right-color: var(--fill-color);\n",
              "    }\n",
              "    40% {\n",
              "      border-color: transparent;\n",
              "      border-right-color: var(--fill-color);\n",
              "      border-top-color: var(--fill-color);\n",
              "    }\n",
              "    60% {\n",
              "      border-color: transparent;\n",
              "      border-right-color: var(--fill-color);\n",
              "    }\n",
              "    80% {\n",
              "      border-color: transparent;\n",
              "      border-right-color: var(--fill-color);\n",
              "      border-bottom-color: var(--fill-color);\n",
              "    }\n",
              "    90% {\n",
              "      border-color: transparent;\n",
              "      border-bottom-color: var(--fill-color);\n",
              "    }\n",
              "  }\n",
              "</style>\n",
              "\n",
              "  <script>\n",
              "    async function quickchart(key) {\n",
              "      const quickchartButtonEl =\n",
              "        document.querySelector('#' + key + ' button');\n",
              "      quickchartButtonEl.disabled = true;  // To prevent multiple clicks.\n",
              "      quickchartButtonEl.classList.add('colab-df-spinner');\n",
              "      try {\n",
              "        const charts = await google.colab.kernel.invokeFunction(\n",
              "            'suggestCharts', [key], {});\n",
              "      } catch (error) {\n",
              "        console.error('Error during call to suggestCharts:', error);\n",
              "      }\n",
              "      quickchartButtonEl.classList.remove('colab-df-spinner');\n",
              "      quickchartButtonEl.classList.add('colab-df-quickchart-complete');\n",
              "    }\n",
              "    (() => {\n",
              "      let quickchartButtonEl =\n",
              "        document.querySelector('#df-b056883e-b59b-444d-8e89-a210dc380ea4 button');\n",
              "      quickchartButtonEl.style.display =\n",
              "        google.colab.kernel.accessAllowed ? 'block' : 'none';\n",
              "    })();\n",
              "  </script>\n",
              "</div>\n",
              "    </div>\n",
              "  </div>\n"
            ],
            "application/vnd.google.colaboratory.intrinsic+json": {
              "type": "dataframe",
              "summary": "{\n  \"name\": \"#data = data\",\n  \"rows\": 5,\n  \"fields\": [\n    {\n      \"column\": \"Gender\",\n      \"properties\": {\n        \"dtype\": \"category\",\n        \"num_unique_values\": 2,\n        \"samples\": [\n          \"Male\",\n          \"Female\"\n        ],\n        \"semantic_type\": \"\",\n        \"description\": \"\"\n      }\n    },\n    {\n      \"column\": \"Age\",\n      \"properties\": {\n        \"dtype\": \"number\",\n        \"std\": 0.0,\n        \"min\": 34.0,\n        \"max\": 34.0,\n        \"num_unique_values\": 1,\n        \"samples\": [\n          34.0\n        ],\n        \"semantic_type\": \"\",\n        \"description\": \"\"\n      }\n    },\n    {\n      \"column\": \"Depression\",\n      \"properties\": {\n        \"dtype\": \"category\",\n        \"num_unique_values\": 2,\n        \"samples\": [\n          \"Yes\"\n        ],\n        \"semantic_type\": \"\",\n        \"description\": \"\"\n      }\n    }\n  ]\n}"
            }
          },
          "metadata": {},
          "execution_count": 13
        }
      ],
      "source": [
        "# добавление строки с пустым значением Age\n",
        "data.loc[len(data)] = [\"Male\", np.nan, \"Yes\"]\n",
        "\n",
        "# заполнение пустых значений на основе предыдущих\n",
        "data = data.ffill()\n",
        "data.tail()\n",
        "#data = data.drop(axis=0, index=len(data)-1)"
      ]
    },
    {
      "cell_type": "markdown",
      "metadata": {
        "id": "EqZiXoXpefbw"
      },
      "source": [
        "5. Разобраться с основными возможностями для визуализации данных:\n",
        "\n",
        "* линейная диаграмма (plot);"
      ]
    },
    {
      "cell_type": "code",
      "execution_count": null,
      "metadata": {
        "id": "aF4JYxpKefbw",
        "colab": {
          "base_uri": "https://localhost:8080/",
          "height": 466
        },
        "outputId": "f3fbdca9-5108-49fb-dc45-fc78edf0409e"
      },
      "outputs": [
        {
          "output_type": "execute_result",
          "data": {
            "text/plain": [
              "<Axes: xlabel='Study Hours'>"
            ]
          },
          "metadata": {},
          "execution_count": 42
        },
        {
          "output_type": "display_data",
          "data": {
            "text/plain": [
              "<Figure size 640x480 with 1 Axes>"
            ],
            "image/png": "[encoded data removed]"
          },
          "metadata": {}
        }
      ],
      "source": [
        "plot_data = df[[\"Age\", \"Gender\", \"Study Hours\", \"Financial Stress\", \"Depression\"]].copy()\n",
        "plot_data.groupby([\"Study Hours\"]).size().plot.line()"
      ]
    },
    {
      "cell_type": "markdown",
      "metadata": {
        "id": "AUUIRrIWefbw"
      },
      "source": [
        "* гистограмма (hist);"
      ]
    },
    {
      "cell_type": "code",
      "execution_count": null,
      "metadata": {
        "colab": {
          "base_uri": "https://localhost:8080/",
          "height": 447
        },
        "id": "x0ArYpJwefbw",
        "outputId": "a7c0a1fc-0f7f-4d6e-99de-8235ae1ea5e8"
      },
      "outputs": [
        {
          "output_type": "execute_result",
          "data": {
            "text/plain": [
              "<Axes: ylabel='Frequency'>"
            ]
          },
          "metadata": {},
          "execution_count": 40
        },
        {
          "output_type": "display_data",
          "data": {
            "text/plain": [
              "<Figure size 640x480 with 1 Axes>"
            ],
            "image/png": "[encoded data removed]"
          },
          "metadata": {}
        }
      ],
      "source": [
        "# строим гистограмму\n",
        "plot_data.plot.hist(column='Age')"
      ]
    },
    {
      "cell_type": "markdown",
      "metadata": {
        "id": "wxxJ--o1efbx"
      },
      "source": [
        "* столбчатая диаграмма (bar);"
      ]
    },
    {
      "cell_type": "code",
      "execution_count": null,
      "metadata": {
        "colab": {
          "base_uri": "https://localhost:8080/",
          "height": 503
        },
        "id": "udK0dopaefbx",
        "outputId": "89c345d3-b135-4cf8-ea32-d0ef96b9a8de"
      },
      "outputs": [
        {
          "output_type": "execute_result",
          "data": {
            "text/plain": [
              "<Axes: xlabel='Gender'>"
            ]
          },
          "metadata": {},
          "execution_count": 16
        },
        {
          "output_type": "display_data",
          "data": {
            "text/plain": [
              "<Figure size 640x480 with 1 Axes>"
            ],
            "image/png": "[encoded data removed]"
          },
          "metadata": {}
        }
      ],
      "source": [
        "plot_data.groupby([\"Gender\", \"Depression\"]).size().unstack().plot.bar(color=[\"green\", \"red\"])"
      ]
    },
    {
      "cell_type": "markdown",
      "metadata": {
        "id": "2hblU-VJefbx"
      },
      "source": [
        "* ящик с усами (box);"
      ]
    },
    {
      "cell_type": "code",
      "execution_count": null,
      "metadata": {
        "colab": {
          "base_uri": "https://localhost:8080/",
          "height": 956
        },
        "id": "894q5oUWefbx",
        "outputId": "629e3528-9ba5-4ef4-cc15-7b81a50c3e4c"
      },
      "outputs": [
        {
          "output_type": "execute_result",
          "data": {
            "text/plain": [
              "<Axes: title={'center': 'Financial Stress'}, xlabel='Depression'>"
            ]
          },
          "metadata": {},
          "execution_count": 17
        },
        {
          "output_type": "display_data",
          "data": {
            "text/plain": [
              "<Figure size 640x480 with 1 Axes>"
            ],
            "image/png": "[encoded data removed]"
          },
          "metadata": {}
        },
        {
          "output_type": "display_data",
          "data": {
            "text/plain": [
              "<Figure size 640x480 with 1 Axes>"
            ],
            "image/png": "[encoded data removed]"
          },
          "metadata": {}
        }
      ],
      "source": [
        "plot_data.boxplot(column=\"Age\", by=\"Depression\")\n",
        "plot_data.boxplot(column=\"Financial Stress\", by=\"Depression\")"
      ]
    },
    {
      "cell_type": "markdown",
      "metadata": {
        "id": "S8mjE3hXefbx"
      },
      "source": [
        "* диаграмма рассеяния (scatter)."
      ]
    },
    {
      "cell_type": "code",
      "source": [
        "plot_data.plot.scatter(x=\"Age\", y=\"Gender\")\n",
        "plot_data.plot.scatter(x=\"Age\", y=\"Study Hours\")"
      ],
      "metadata": {
        "colab": {
          "base_uri": "https://localhost:8080/",
          "height": 899
        },
        "id": "_lWJaFrJffsR",
        "outputId": "d23b00d6-2e20-468e-ac2b-9ee92a533c8e"
      },
      "execution_count": null,
      "outputs": [
        {
          "output_type": "execute_result",
          "data": {
            "text/plain": [
              "<Axes: xlabel='Age', ylabel='Study Hours'>"
            ]
          },
          "metadata": {},
          "execution_count": 13
        },
        {
          "output_type": "display_data",
          "data": {
            "text/plain": [
              "<Figure size 640x480 with 1 Axes>"
            ],
            "image/png": "[encoded data removed]"
          },
          "metadata": {}
        },
        {
          "output_type": "display_data",
          "data": {
            "text/plain": [
              "<Figure size 640x480 with 1 Axes>"
            ],
            "image/png": "[encoded data removed]"
          },
          "metadata": {}
        }
      ]
    }
  ],
  "metadata": {
    "kernelspec": {
      "display_name": "Python 3",
      "language": "python",
      "name": "python3"
    },
    "language_info": {
      "codemirror_mode": {
        "name": "ipython",
        "version": 3
      },
      "file_extension": ".py",
      "mimetype": "text/x-python",
      "name": "python",
      "nbconvert_exporter": "python",
      "pygments_lexer": "ipython3",
      "version": "3.11.2"
    },
    "colab": {
      "provenance": []
    }
  },
  "nbformat": 4,
  "nbformat_minor": 0
}
