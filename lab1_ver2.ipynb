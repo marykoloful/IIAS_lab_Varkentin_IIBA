{
  "cells": [
    {
      "cell_type": "markdown",
      "metadata": {
        "id": "view-in-github",
        "colab_type": "text"
      },
      "source": [
        "<a href=\"https://colab.research.google.com/github/marykoloful/IIAS_lab_Varkentin_IIBA/blob/master/lab1_ver2.ipynb\" target=\"_parent\"><img src=\"https://colab.research.google.com/assets/colab-badge.svg\" alt=\"Open In Colab\"/></a>"
      ]
    },
    {
      "cell_type": "markdown",
      "metadata": {
        "id": "rlqr035nefbn"
      },
      "source": [
        "ИИБАмд-11 Варкентин Мария. Лабораторная работа по ИИАС №1.\n",
        "1. Руководитель: Гуськов Г.Ю.\n",
        "Примерная тема магистерской: Обнаружение депрессии из текстов пользователей в социальных сетях.\n",
        "2. Несколько задач для решения в рамках дисциплины:\n",
        "* Изучить pandas и numpy;\n",
        "* Изучить методы обработки есстественного языка: токенизация, стемминг, word augmentation и др.\n",
        "3. Датасет с названием \"Student Depression Dataset\" найден на Kaggle: https://www.kaggle.com/code/arifmia/student-depression-dataset-analysis-hybrid-model/notebook\n",
        "4. Выполнить следующие операции по работе с данными:\n",
        "* загрузка и сохранение данных;"
      ]
    },
    {
      "cell_type": "code",
      "execution_count": null,
      "metadata": {
        "colab": {
          "base_uri": "https://localhost:8080/",
          "height": 681
        },
        "id": "uyt4_6lgefbq",
        "outputId": "6e9e2cf6-ee86-4352-be90-54f0cf3d08c3"
      },
      "outputs": [
        {
          "output_type": "stream",
          "name": "stdout",
          "text": [
            "Warning: Looks like you're using an outdated `kagglehub` version (installed: 0.3.7), please consider upgrading to the latest version (0.3.8).\n",
            "Downloading from https://www.kaggle.com/api/v1/datasets/download/hopesb/student-depression-dataset?dataset_version_number=1...\n"
          ]
        },
        {
          "output_type": "stream",
          "name": "stderr",
          "text": [
            "100%|██████████| 454k/454k [00:00<00:00, 68.2MB/s]"
          ]
        },
        {
          "output_type": "stream",
          "name": "stdout",
          "text": [
            "Extracting files...\n",
            "Path to dataset files: /root/.cache/kagglehub/datasets/hopesb/student-depression-dataset/versions/1\n"
          ]
        },
        {
          "output_type": "stream",
          "name": "stderr",
          "text": [
            "\n"
          ]
        },
        {
          "output_type": "execute_result",
          "data": {
            "text/plain": [
              "        Gender   Age           City Profession  Academic Pressure  \\\n",
              "id                                                                  \n",
              "2         Male  33.0  Visakhapatnam    Student                5.0   \n",
              "8       Female  24.0      Bangalore    Student                2.0   \n",
              "26        Male  31.0       Srinagar    Student                3.0   \n",
              "30      Female  28.0       Varanasi    Student                3.0   \n",
              "32      Female  25.0         Jaipur    Student                4.0   \n",
              "...        ...   ...            ...        ...                ...   \n",
              "140685  Female  27.0          Surat    Student                5.0   \n",
              "140686    Male  27.0       Ludhiana    Student                2.0   \n",
              "140689    Male  31.0      Faridabad    Student                3.0   \n",
              "140690  Female  18.0       Ludhiana    Student                5.0   \n",
              "140699    Male  27.0          Patna    Student                4.0   \n",
              "\n",
              "        Work Pressure  CGPA  Study Satisfaction  Job Satisfaction  \\\n",
              "id                                                                  \n",
              "2                 0.0  8.97                 2.0               0.0   \n",
              "8                 0.0  5.90                 5.0               0.0   \n",
              "26                0.0  7.03                 5.0               0.0   \n",
              "30                0.0  5.59                 2.0               0.0   \n",
              "32                0.0  8.13                 3.0               0.0   \n",
              "...               ...   ...                 ...               ...   \n",
              "140685            0.0  5.75                 5.0               0.0   \n",
              "140686            0.0  9.40                 3.0               0.0   \n",
              "140689            0.0  6.61                 4.0               0.0   \n",
              "140690            0.0  6.88                 2.0               0.0   \n",
              "140699            0.0  9.24                 1.0               0.0   \n",
              "\n",
              "           Sleep Duration Dietary Habits    Degree  \\\n",
              "id                                                   \n",
              "2               5-6 hours        Healthy   B.Pharm   \n",
              "8               5-6 hours       Moderate       BSc   \n",
              "26      Less than 5 hours        Healthy        BA   \n",
              "30              7-8 hours       Moderate       BCA   \n",
              "32              5-6 hours       Moderate    M.Tech   \n",
              "...                   ...            ...       ...   \n",
              "140685          5-6 hours      Unhealthy  Class 12   \n",
              "140686  Less than 5 hours        Healthy       MSc   \n",
              "140689          5-6 hours      Unhealthy        MD   \n",
              "140690  Less than 5 hours        Healthy  Class 12   \n",
              "140699  Less than 5 hours        Healthy       BCA   \n",
              "\n",
              "       Have you ever had suicidal thoughts ?  Work/Study Hours  \\\n",
              "id                                                               \n",
              "2                                        Yes               3.0   \n",
              "8                                         No               3.0   \n",
              "26                                        No               9.0   \n",
              "30                                       Yes               4.0   \n",
              "32                                       Yes               1.0   \n",
              "...                                      ...               ...   \n",
              "140685                                   Yes               7.0   \n",
              "140686                                    No               0.0   \n",
              "140689                                    No              12.0   \n",
              "140690                                   Yes              10.0   \n",
              "140699                                   Yes               2.0   \n",
              "\n",
              "        Financial Stress Family History of Mental Illness  Depression  \n",
              "id                                                                     \n",
              "2                    1.0                               No           1  \n",
              "8                    2.0                              Yes           0  \n",
              "26                   1.0                              Yes           0  \n",
              "30                   5.0                              Yes           1  \n",
              "32                   1.0                               No           0  \n",
              "...                  ...                              ...         ...  \n",
              "140685               1.0                              Yes           0  \n",
              "140686               3.0                              Yes           0  \n",
              "140689               2.0                               No           0  \n",
              "140690               5.0                               No           1  \n",
              "140699               3.0                              Yes           1  \n",
              "\n",
              "[27901 rows x 17 columns]"
            ],
            "text/html": [
              "\n",
              "  <div id=\"df-db8ad4f2-0a29-450a-af6f-c642069ce7c1\" class=\"colab-df-container\">\n",
              "    <div>\n",
              "<style scoped>\n",
              "    .dataframe tbody tr th:only-of-type {\n",
              "        vertical-align: middle;\n",
              "    }\n",
              "\n",
              "    .dataframe tbody tr th {\n",
              "        vertical-align: top;\n",
              "    }\n",
              "\n",
              "    .dataframe thead th {\n",
              "        text-align: right;\n",
              "    }\n",
              "</style>\n",
              "<table border=\"1\" class=\"dataframe\">\n",
              "  <thead>\n",
              "    <tr style=\"text-align: right;\">\n",
              "      <th></th>\n",
              "      <th>Gender</th>\n",
              "      <th>Age</th>\n",
              "      <th>City</th>\n",
              "      <th>Profession</th>\n",
              "      <th>Academic Pressure</th>\n",
              "      <th>Work Pressure</th>\n",
              "      <th>CGPA</th>\n",
              "      <th>Study Satisfaction</th>\n",
              "      <th>Job Satisfaction</th>\n",
              "      <th>Sleep Duration</th>\n",
              "      <th>Dietary Habits</th>\n",
              "      <th>Degree</th>\n",
              "      <th>Have you ever had suicidal thoughts ?</th>\n",
              "      <th>Work/Study Hours</th>\n",
              "      <th>Financial Stress</th>\n",
              "      <th>Family History of Mental Illness</th>\n",
              "      <th>Depression</th>\n",
              "    </tr>\n",
              "    <tr>\n",
              "      <th>id</th>\n",
              "      <th></th>\n",
              "      <th></th>\n",
              "      <th></th>\n",
              "      <th></th>\n",
              "      <th></th>\n",
              "      <th></th>\n",
              "      <th></th>\n",
              "      <th></th>\n",
              "      <th></th>\n",
              "      <th></th>\n",
              "      <th></th>\n",
              "      <th></th>\n",
              "      <th></th>\n",
              "      <th></th>\n",
              "      <th></th>\n",
              "      <th></th>\n",
              "      <th></th>\n",
              "    </tr>\n",
              "  </thead>\n",
              "  <tbody>\n",
              "    <tr>\n",
              "      <th>2</th>\n",
              "      <td>Male</td>\n",
              "      <td>33.0</td>\n",
              "      <td>Visakhapatnam</td>\n",
              "      <td>Student</td>\n",
              "      <td>5.0</td>\n",
              "      <td>0.0</td>\n",
              "      <td>8.97</td>\n",
              "      <td>2.0</td>\n",
              "      <td>0.0</td>\n",
              "      <td>5-6 hours</td>\n",
              "      <td>Healthy</td>\n",
              "      <td>B.Pharm</td>\n",
              "      <td>Yes</td>\n",
              "      <td>3.0</td>\n",
              "      <td>1.0</td>\n",
              "      <td>No</td>\n",
              "      <td>1</td>\n",
              "    </tr>\n",
              "    <tr>\n",
              "      <th>8</th>\n",
              "      <td>Female</td>\n",
              "      <td>24.0</td>\n",
              "      <td>Bangalore</td>\n",
              "      <td>Student</td>\n",
              "      <td>2.0</td>\n",
              "      <td>0.0</td>\n",
              "      <td>5.90</td>\n",
              "      <td>5.0</td>\n",
              "      <td>0.0</td>\n",
              "      <td>5-6 hours</td>\n",
              "      <td>Moderate</td>\n",
              "      <td>BSc</td>\n",
              "      <td>No</td>\n",
              "      <td>3.0</td>\n",
              "      <td>2.0</td>\n",
              "      <td>Yes</td>\n",
              "      <td>0</td>\n",
              "    </tr>\n",
              "    <tr>\n",
              "      <th>26</th>\n",
              "      <td>Male</td>\n",
              "      <td>31.0</td>\n",
              "      <td>Srinagar</td>\n",
              "      <td>Student</td>\n",
              "      <td>3.0</td>\n",
              "      <td>0.0</td>\n",
              "      <td>7.03</td>\n",
              "      <td>5.0</td>\n",
              "      <td>0.0</td>\n",
              "      <td>Less than 5 hours</td>\n",
              "      <td>Healthy</td>\n",
              "      <td>BA</td>\n",
              "      <td>No</td>\n",
              "      <td>9.0</td>\n",
              "      <td>1.0</td>\n",
              "      <td>Yes</td>\n",
              "      <td>0</td>\n",
              "    </tr>\n",
              "    <tr>\n",
              "      <th>30</th>\n",
              "      <td>Female</td>\n",
              "      <td>28.0</td>\n",
              "      <td>Varanasi</td>\n",
              "      <td>Student</td>\n",
              "      <td>3.0</td>\n",
              "      <td>0.0</td>\n",
              "      <td>5.59</td>\n",
              "      <td>2.0</td>\n",
              "      <td>0.0</td>\n",
              "      <td>7-8 hours</td>\n",
              "      <td>Moderate</td>\n",
              "      <td>BCA</td>\n",
              "      <td>Yes</td>\n",
              "      <td>4.0</td>\n",
              "      <td>5.0</td>\n",
              "      <td>Yes</td>\n",
              "      <td>1</td>\n",
              "    </tr>\n",
              "    <tr>\n",
              "      <th>32</th>\n",
              "      <td>Female</td>\n",
              "      <td>25.0</td>\n",
              "      <td>Jaipur</td>\n",
              "      <td>Student</td>\n",
              "      <td>4.0</td>\n",
              "      <td>0.0</td>\n",
              "      <td>8.13</td>\n",
              "      <td>3.0</td>\n",
              "      <td>0.0</td>\n",
              "      <td>5-6 hours</td>\n",
              "      <td>Moderate</td>\n",
              "      <td>M.Tech</td>\n",
              "      <td>Yes</td>\n",
              "      <td>1.0</td>\n",
              "      <td>1.0</td>\n",
              "      <td>No</td>\n",
              "      <td>0</td>\n",
              "    </tr>\n",
              "    <tr>\n",
              "      <th>...</th>\n",
              "      <td>...</td>\n",
              "      <td>...</td>\n",
              "      <td>...</td>\n",
              "      <td>...</td>\n",
              "      <td>...</td>\n",
              "      <td>...</td>\n",
              "      <td>...</td>\n",
              "      <td>...</td>\n",
              "      <td>...</td>\n",
              "      <td>...</td>\n",
              "      <td>...</td>\n",
              "      <td>...</td>\n",
              "      <td>...</td>\n",
              "      <td>...</td>\n",
              "      <td>...</td>\n",
              "      <td>...</td>\n",
              "      <td>...</td>\n",
              "    </tr>\n",
              "    <tr>\n",
              "      <th>140685</th>\n",
              "      <td>Female</td>\n",
              "      <td>27.0</td>\n",
              "      <td>Surat</td>\n",
              "      <td>Student</td>\n",
              "      <td>5.0</td>\n",
              "      <td>0.0</td>\n",
              "      <td>5.75</td>\n",
              "      <td>5.0</td>\n",
              "      <td>0.0</td>\n",
              "      <td>5-6 hours</td>\n",
              "      <td>Unhealthy</td>\n",
              "      <td>Class 12</td>\n",
              "      <td>Yes</td>\n",
              "      <td>7.0</td>\n",
              "      <td>1.0</td>\n",
              "      <td>Yes</td>\n",
              "      <td>0</td>\n",
              "    </tr>\n",
              "    <tr>\n",
              "      <th>140686</th>\n",
              "      <td>Male</td>\n",
              "      <td>27.0</td>\n",
              "      <td>Ludhiana</td>\n",
              "      <td>Student</td>\n",
              "      <td>2.0</td>\n",
              "      <td>0.0</td>\n",
              "      <td>9.40</td>\n",
              "      <td>3.0</td>\n",
              "      <td>0.0</td>\n",
              "      <td>Less than 5 hours</td>\n",
              "      <td>Healthy</td>\n",
              "      <td>MSc</td>\n",
              "      <td>No</td>\n",
              "      <td>0.0</td>\n",
              "      <td>3.0</td>\n",
              "      <td>Yes</td>\n",
              "      <td>0</td>\n",
              "    </tr>\n",
              "    <tr>\n",
              "      <th>140689</th>\n",
              "      <td>Male</td>\n",
              "      <td>31.0</td>\n",
              "      <td>Faridabad</td>\n",
              "      <td>Student</td>\n",
              "      <td>3.0</td>\n",
              "      <td>0.0</td>\n",
              "      <td>6.61</td>\n",
              "      <td>4.0</td>\n",
              "      <td>0.0</td>\n",
              "      <td>5-6 hours</td>\n",
              "      <td>Unhealthy</td>\n",
              "      <td>MD</td>\n",
              "      <td>No</td>\n",
              "      <td>12.0</td>\n",
              "      <td>2.0</td>\n",
              "      <td>No</td>\n",
              "      <td>0</td>\n",
              "    </tr>\n",
              "    <tr>\n",
              "      <th>140690</th>\n",
              "      <td>Female</td>\n",
              "      <td>18.0</td>\n",
              "      <td>Ludhiana</td>\n",
              "      <td>Student</td>\n",
              "      <td>5.0</td>\n",
              "      <td>0.0</td>\n",
              "      <td>6.88</td>\n",
              "      <td>2.0</td>\n",
              "      <td>0.0</td>\n",
              "      <td>Less than 5 hours</td>\n",
              "      <td>Healthy</td>\n",
              "      <td>Class 12</td>\n",
              "      <td>Yes</td>\n",
              "      <td>10.0</td>\n",
              "      <td>5.0</td>\n",
              "      <td>No</td>\n",
              "      <td>1</td>\n",
              "    </tr>\n",
              "    <tr>\n",
              "      <th>140699</th>\n",
              "      <td>Male</td>\n",
              "      <td>27.0</td>\n",
              "      <td>Patna</td>\n",
              "      <td>Student</td>\n",
              "      <td>4.0</td>\n",
              "      <td>0.0</td>\n",
              "      <td>9.24</td>\n",
              "      <td>1.0</td>\n",
              "      <td>0.0</td>\n",
              "      <td>Less than 5 hours</td>\n",
              "      <td>Healthy</td>\n",
              "      <td>BCA</td>\n",
              "      <td>Yes</td>\n",
              "      <td>2.0</td>\n",
              "      <td>3.0</td>\n",
              "      <td>Yes</td>\n",
              "      <td>1</td>\n",
              "    </tr>\n",
              "  </tbody>\n",
              "</table>\n",
              "<p>27901 rows × 17 columns</p>\n",
              "</div>\n",
              "    <div class=\"colab-df-buttons\">\n",
              "\n",
              "  <div class=\"colab-df-container\">\n",
              "    <button class=\"colab-df-convert\" onclick=\"convertToInteractive('df-db8ad4f2-0a29-450a-af6f-c642069ce7c1')\"\n",
              "            title=\"Convert this dataframe to an interactive table.\"\n",
              "            style=\"display:none;\">\n",
              "\n",
              "  <svg xmlns=\"http://www.w3.org/2000/svg\" height=\"24px\" viewBox=\"0 -960 960 960\">\n",
              "    <path d=\"M120-120v-720h720v720H120Zm60-500h600v-160H180v160Zm220 220h160v-160H400v160Zm0 220h160v-160H400v160ZM180-400h160v-160H180v160Zm440 0h160v-160H620v160ZM180-180h160v-160H180v160Zm440 0h160v-160H620v160Z\"/>\n",
              "  </svg>\n",
              "    </button>\n",
              "\n",
              "  <style>\n",
              "    .colab-df-container {\n",
              "      display:flex;\n",
              "      gap: 12px;\n",
              "    }\n",
              "\n",
              "    .colab-df-convert {\n",
              "      background-color: #E8F0FE;\n",
              "      border: none;\n",
              "      border-radius: 50%;\n",
              "      cursor: pointer;\n",
              "      display: none;\n",
              "      fill: #1967D2;\n",
              "      height: 32px;\n",
              "      padding: 0 0 0 0;\n",
              "      width: 32px;\n",
              "    }\n",
              "\n",
              "    .colab-df-convert:hover {\n",
              "      background-color: #E2EBFA;\n",
              "      box-shadow: 0px 1px 2px rgba(60, 64, 67, 0.3), 0px 1px 3px 1px rgba(60, 64, 67, 0.15);\n",
              "      fill: #174EA6;\n",
              "    }\n",
              "\n",
              "    .colab-df-buttons div {\n",
              "      margin-bottom: 4px;\n",
              "    }\n",
              "\n",
              "    [theme=dark] .colab-df-convert {\n",
              "      background-color: #3B4455;\n",
              "      fill: #D2E3FC;\n",
              "    }\n",
              "\n",
              "    [theme=dark] .colab-df-convert:hover {\n",
              "      background-color: #434B5C;\n",
              "      box-shadow: 0px 1px 3px 1px rgba(0, 0, 0, 0.15);\n",
              "      filter: drop-shadow(0px 1px 2px rgba(0, 0, 0, 0.3));\n",
              "      fill: #FFFFFF;\n",
              "    }\n",
              "  </style>\n",
              "\n",
              "    <script>\n",
              "      const buttonEl =\n",
              "        document.querySelector('#df-db8ad4f2-0a29-450a-af6f-c642069ce7c1 button.colab-df-convert');\n",
              "      buttonEl.style.display =\n",
              "        google.colab.kernel.accessAllowed ? 'block' : 'none';\n",
              "\n",
              "      async function convertToInteractive(key) {\n",
              "        const element = document.querySelector('#df-db8ad4f2-0a29-450a-af6f-c642069ce7c1');\n",
              "        const dataTable =\n",
              "          await google.colab.kernel.invokeFunction('convertToInteractive',\n",
              "                                                    [key], {});\n",
              "        if (!dataTable) return;\n",
              "\n",
              "        const docLinkHtml = 'Like what you see? Visit the ' +\n",
              "          '<a target=\"_blank\" href=https://colab.research.google.com/notebooks/data_table.ipynb>data table notebook</a>'\n",
              "          + ' to learn more about interactive tables.';\n",
              "        element.innerHTML = '';\n",
              "        dataTable['output_type'] = 'display_data';\n",
              "        await google.colab.output.renderOutput(dataTable, element);\n",
              "        const docLink = document.createElement('div');\n",
              "        docLink.innerHTML = docLinkHtml;\n",
              "        element.appendChild(docLink);\n",
              "      }\n",
              "    </script>\n",
              "  </div>\n",
              "\n",
              "\n",
              "<div id=\"df-8f84d74b-aa16-4232-aaf6-52eeeff2189c\">\n",
              "  <button class=\"colab-df-quickchart\" onclick=\"quickchart('df-8f84d74b-aa16-4232-aaf6-52eeeff2189c')\"\n",
              "            title=\"Suggest charts\"\n",
              "            style=\"display:none;\">\n",
              "\n",
              "<svg xmlns=\"http://www.w3.org/2000/svg\" height=\"24px\"viewBox=\"0 0 24 24\"\n",
              "     width=\"24px\">\n",
              "    <g>\n",
              "        <path d=\"M19 3H5c-1.1 0-2 .9-2 2v14c0 1.1.9 2 2 2h14c1.1 0 2-.9 2-2V5c0-1.1-.9-2-2-2zM9 17H7v-7h2v7zm4 0h-2V7h2v10zm4 0h-2v-4h2v4z\"/>\n",
              "    </g>\n",
              "</svg>\n",
              "  </button>\n",
              "\n",
              "<style>\n",
              "  .colab-df-quickchart {\n",
              "      --bg-color: #E8F0FE;\n",
              "      --fill-color: #1967D2;\n",
              "      --hover-bg-color: #E2EBFA;\n",
              "      --hover-fill-color: #174EA6;\n",
              "      --disabled-fill-color: #AAA;\n",
              "      --disabled-bg-color: #DDD;\n",
              "  }\n",
              "\n",
              "  [theme=dark] .colab-df-quickchart {\n",
              "      --bg-color: #3B4455;\n",
              "      --fill-color: #D2E3FC;\n",
              "      --hover-bg-color: #434B5C;\n",
              "      --hover-fill-color: #FFFFFF;\n",
              "      --disabled-bg-color: #3B4455;\n",
              "      --disabled-fill-color: #666;\n",
              "  }\n",
              "\n",
              "  .colab-df-quickchart {\n",
              "    background-color: var(--bg-color);\n",
              "    border: none;\n",
              "    border-radius: 50%;\n",
              "    cursor: pointer;\n",
              "    display: none;\n",
              "    fill: var(--fill-color);\n",
              "    height: 32px;\n",
              "    padding: 0;\n",
              "    width: 32px;\n",
              "  }\n",
              "\n",
              "  .colab-df-quickchart:hover {\n",
              "    background-color: var(--hover-bg-color);\n",
              "    box-shadow: 0 1px 2px rgba(60, 64, 67, 0.3), 0 1px 3px 1px rgba(60, 64, 67, 0.15);\n",
              "    fill: var(--button-hover-fill-color);\n",
              "  }\n",
              "\n",
              "  .colab-df-quickchart-complete:disabled,\n",
              "  .colab-df-quickchart-complete:disabled:hover {\n",
              "    background-color: var(--disabled-bg-color);\n",
              "    fill: var(--disabled-fill-color);\n",
              "    box-shadow: none;\n",
              "  }\n",
              "\n",
              "  .colab-df-spinner {\n",
              "    border: 2px solid var(--fill-color);\n",
              "    border-color: transparent;\n",
              "    border-bottom-color: var(--fill-color);\n",
              "    animation:\n",
              "      spin 1s steps(1) infinite;\n",
              "  }\n",
              "\n",
              "  @keyframes spin {\n",
              "    0% {\n",
              "      border-color: transparent;\n",
              "      border-bottom-color: var(--fill-color);\n",
              "      border-left-color: var(--fill-color);\n",
              "    }\n",
              "    20% {\n",
              "      border-color: transparent;\n",
              "      border-left-color: var(--fill-color);\n",
              "      border-top-color: var(--fill-color);\n",
              "    }\n",
              "    30% {\n",
              "      border-color: transparent;\n",
              "      border-left-color: var(--fill-color);\n",
              "      border-top-color: var(--fill-color);\n",
              "      border-right-color: var(--fill-color);\n",
              "    }\n",
              "    40% {\n",
              "      border-color: transparent;\n",
              "      border-right-color: var(--fill-color);\n",
              "      border-top-color: var(--fill-color);\n",
              "    }\n",
              "    60% {\n",
              "      border-color: transparent;\n",
              "      border-right-color: var(--fill-color);\n",
              "    }\n",
              "    80% {\n",
              "      border-color: transparent;\n",
              "      border-right-color: var(--fill-color);\n",
              "      border-bottom-color: var(--fill-color);\n",
              "    }\n",
              "    90% {\n",
              "      border-color: transparent;\n",
              "      border-bottom-color: var(--fill-color);\n",
              "    }\n",
              "  }\n",
              "</style>\n",
              "\n",
              "  <script>\n",
              "    async function quickchart(key) {\n",
              "      const quickchartButtonEl =\n",
              "        document.querySelector('#' + key + ' button');\n",
              "      quickchartButtonEl.disabled = true;  // To prevent multiple clicks.\n",
              "      quickchartButtonEl.classList.add('colab-df-spinner');\n",
              "      try {\n",
              "        const charts = await google.colab.kernel.invokeFunction(\n",
              "            'suggestCharts', [key], {});\n",
              "      } catch (error) {\n",
              "        console.error('Error during call to suggestCharts:', error);\n",
              "      }\n",
              "      quickchartButtonEl.classList.remove('colab-df-spinner');\n",
              "      quickchartButtonEl.classList.add('colab-df-quickchart-complete');\n",
              "    }\n",
              "    (() => {\n",
              "      let quickchartButtonEl =\n",
              "        document.querySelector('#df-8f84d74b-aa16-4232-aaf6-52eeeff2189c button');\n",
              "      quickchartButtonEl.style.display =\n",
              "        google.colab.kernel.accessAllowed ? 'block' : 'none';\n",
              "    })();\n",
              "  </script>\n",
              "</div>\n",
              "    </div>\n",
              "  </div>\n"
            ],
            "application/vnd.google.colaboratory.intrinsic+json": {
              "type": "dataframe",
              "variable_name": "df",
              "summary": "{\n  \"name\": \"df\",\n  \"rows\": 27901,\n  \"fields\": [\n    {\n      \"column\": \"id\",\n      \"properties\": {\n        \"dtype\": \"number\",\n        \"std\": 40641,\n        \"min\": 2,\n        \"max\": 140699,\n        \"num_unique_values\": 27901,\n        \"samples\": [\n          101205,\n          83727,\n          38395\n        ],\n        \"semantic_type\": \"\",\n        \"description\": \"\"\n      }\n    },\n    {\n      \"column\": \"Gender\",\n      \"properties\": {\n        \"dtype\": \"category\",\n        \"num_unique_values\": 2,\n        \"samples\": [\n          \"Female\",\n          \"Male\"\n        ],\n        \"semantic_type\": \"\",\n        \"description\": \"\"\n      }\n    },\n    {\n      \"column\": \"Age\",\n      \"properties\": {\n        \"dtype\": \"number\",\n        \"std\": 4.90568744892443,\n        \"min\": 18.0,\n        \"max\": 59.0,\n        \"num_unique_values\": 34,\n        \"samples\": [\n          32.0,\n          42.0\n        ],\n        \"semantic_type\": \"\",\n        \"description\": \"\"\n      }\n    },\n    {\n      \"column\": \"City\",\n      \"properties\": {\n        \"dtype\": \"category\",\n        \"num_unique_values\": 52,\n        \"samples\": [\n          \"Ludhiana\",\n          \"Harsh\"\n        ],\n        \"semantic_type\": \"\",\n        \"description\": \"\"\n      }\n    },\n    {\n      \"column\": \"Profession\",\n      \"properties\": {\n        \"dtype\": \"category\",\n        \"num_unique_values\": 14,\n        \"samples\": [\n          \"Chef\",\n          \"Lawyer\"\n        ],\n        \"semantic_type\": \"\",\n        \"description\": \"\"\n      }\n    },\n    {\n      \"column\": \"Academic Pressure\",\n      \"properties\": {\n        \"dtype\": \"number\",\n        \"std\": 1.3814648413276254,\n        \"min\": 0.0,\n        \"max\": 5.0,\n        \"num_unique_values\": 6,\n        \"samples\": [\n          5.0,\n          2.0\n        ],\n        \"semantic_type\": \"\",\n        \"description\": \"\"\n      }\n    },\n    {\n      \"column\": \"Work Pressure\",\n      \"properties\": {\n        \"dtype\": \"number\",\n        \"std\": 0.043992032063926795,\n        \"min\": 0.0,\n        \"max\": 5.0,\n        \"num_unique_values\": 3,\n        \"samples\": [\n          0.0,\n          5.0\n        ],\n        \"semantic_type\": \"\",\n        \"description\": \"\"\n      }\n    },\n    {\n      \"column\": \"CGPA\",\n      \"properties\": {\n        \"dtype\": \"number\",\n        \"std\": 1.470707346207616,\n        \"min\": 0.0,\n        \"max\": 10.0,\n        \"num_unique_values\": 332,\n        \"samples\": [\n          5.74,\n          6.32\n        ],\n        \"semantic_type\": \"\",\n        \"description\": \"\"\n      }\n    },\n    {\n      \"column\": \"Study Satisfaction\",\n      \"properties\": {\n        \"dtype\": \"number\",\n        \"std\": 1.361147955267022,\n        \"min\": 0.0,\n        \"max\": 5.0,\n        \"num_unique_values\": 6,\n        \"samples\": [\n          2.0,\n          5.0\n        ],\n        \"semantic_type\": \"\",\n        \"description\": \"\"\n      }\n    },\n    {\n      \"column\": \"Job Satisfaction\",\n      \"properties\": {\n        \"dtype\": \"number\",\n        \"std\": 0.044394396218617196,\n        \"min\": 0.0,\n        \"max\": 4.0,\n        \"num_unique_values\": 5,\n        \"samples\": [\n          3.0,\n          1.0\n        ],\n        \"semantic_type\": \"\",\n        \"description\": \"\"\n      }\n    },\n    {\n      \"column\": \"Sleep Duration\",\n      \"properties\": {\n        \"dtype\": \"category\",\n        \"num_unique_values\": 5,\n        \"samples\": [\n          \"Less than 5 hours\",\n          \"Others\"\n        ],\n        \"semantic_type\": \"\",\n        \"description\": \"\"\n      }\n    },\n    {\n      \"column\": \"Dietary Habits\",\n      \"properties\": {\n        \"dtype\": \"category\",\n        \"num_unique_values\": 4,\n        \"samples\": [\n          \"Moderate\",\n          \"Others\"\n        ],\n        \"semantic_type\": \"\",\n        \"description\": \"\"\n      }\n    },\n    {\n      \"column\": \"Degree\",\n      \"properties\": {\n        \"dtype\": \"category\",\n        \"num_unique_values\": 28,\n        \"samples\": [\n          \"BE\",\n          \"ME\"\n        ],\n        \"semantic_type\": \"\",\n        \"description\": \"\"\n      }\n    },\n    {\n      \"column\": \"Have you ever had suicidal thoughts ?\",\n      \"properties\": {\n        \"dtype\": \"category\",\n        \"num_unique_values\": 2,\n        \"samples\": [\n          \"No\",\n          \"Yes\"\n        ],\n        \"semantic_type\": \"\",\n        \"description\": \"\"\n      }\n    },\n    {\n      \"column\": \"Work/Study Hours\",\n      \"properties\": {\n        \"dtype\": \"number\",\n        \"std\": 3.707642072778702,\n        \"min\": 0.0,\n        \"max\": 12.0,\n        \"num_unique_values\": 13,\n        \"samples\": [\n          5.0,\n          6.0\n        ],\n        \"semantic_type\": \"\",\n        \"description\": \"\"\n      }\n    },\n    {\n      \"column\": \"Financial Stress\",\n      \"properties\": {\n        \"dtype\": \"number\",\n        \"std\": 1.4373466968347501,\n        \"min\": 1.0,\n        \"max\": 5.0,\n        \"num_unique_values\": 5,\n        \"samples\": [\n          2.0,\n          4.0\n        ],\n        \"semantic_type\": \"\",\n        \"description\": \"\"\n      }\n    },\n    {\n      \"column\": \"Family History of Mental Illness\",\n      \"properties\": {\n        \"dtype\": \"category\",\n        \"num_unique_values\": 2,\n        \"samples\": [\n          \"Yes\",\n          \"No\"\n        ],\n        \"semantic_type\": \"\",\n        \"description\": \"\"\n      }\n    },\n    {\n      \"column\": \"Depression\",\n      \"properties\": {\n        \"dtype\": \"number\",\n        \"std\": 0,\n        \"min\": 0,\n        \"max\": 1,\n        \"num_unique_values\": 2,\n        \"samples\": [\n          0,\n          1\n        ],\n        \"semantic_type\": \"\",\n        \"description\": \"\"\n      }\n    }\n  ]\n}"
            }
          },
          "metadata": {},
          "execution_count": 3
        }
      ],
      "source": [
        "import matplotlib.pyplot as plt\n",
        "import pandas as pd\n",
        "import numpy as np\n",
        "import kagglehub\n",
        "# Download latest version\n",
        "path = kagglehub.dataset_download(\"hopesb/student-depression-dataset\")\n",
        "\n",
        "print(\"Path to dataset files:\", path)\n",
        "\n",
        "df = pd.read_csv(path + '/Student Depression Dataset.csv', index_col='id')\n",
        "df.to_csv(\"Student Depression Dataset.csv\")\n",
        "df"
      ]
    },
    {
      "cell_type": "markdown",
      "metadata": {
        "id": "cT2rNyOKefbs"
      },
      "source": [
        "* получение сведений о данных;"
      ]
    },
    {
      "cell_type": "code",
      "execution_count": null,
      "metadata": {
        "colab": {
          "base_uri": "https://localhost:8080/"
        },
        "id": "rqKE3mYVefbt",
        "outputId": "bd0bed9e-206e-4010-85a9-423edd2c94b6"
      },
      "outputs": [
        {
          "output_type": "stream",
          "name": "stdout",
          "text": [
            "<class 'pandas.core.frame.DataFrame'>\n",
            "Index: 27901 entries, 2 to 140699\n",
            "Data columns (total 17 columns):\n",
            " #   Column                                 Non-Null Count  Dtype  \n",
            "---  ------                                 --------------  -----  \n",
            " 0   Gender                                 27901 non-null  object \n",
            " 1   Age                                    27901 non-null  float64\n",
            " 2   City                                   27901 non-null  object \n",
            " 3   Profession                             27901 non-null  object \n",
            " 4   Academic Pressure                      27901 non-null  float64\n",
            " 5   Work Pressure                          27901 non-null  float64\n",
            " 6   CGPA                                   27901 non-null  float64\n",
            " 7   Study Satisfaction                     27901 non-null  float64\n",
            " 8   Job Satisfaction                       27901 non-null  float64\n",
            " 9   Sleep Duration                         27901 non-null  object \n",
            " 10  Dietary Habits                         27901 non-null  object \n",
            " 11  Degree                                 27901 non-null  object \n",
            " 12  Have you ever had suicidal thoughts ?  27901 non-null  object \n",
            " 13  Work/Study Hours                       27901 non-null  float64\n",
            " 14  Financial Stress                       27898 non-null  float64\n",
            " 15  Family History of Mental Illness       27901 non-null  object \n",
            " 16  Depression                             27901 non-null  int64  \n",
            "dtypes: float64(8), int64(1), object(8)\n",
            "memory usage: 3.8+ MB\n"
          ]
        }
      ],
      "source": [
        "df.info()"
      ]
    },
    {
      "cell_type": "markdown",
      "metadata": {
        "id": "f76tuynJefbt"
      },
      "source": [
        "* Вывод отдельных строки и столбцов из таблицы"
      ]
    },
    {
      "cell_type": "code",
      "execution_count": null,
      "metadata": {
        "colab": {
          "base_uri": "https://localhost:8080/"
        },
        "id": "yZRoHhTdefbt",
        "outputId": "beffd86f-581a-4990-85f5-e8809175d60c"
      },
      "outputs": [
        {
          "output_type": "stream",
          "name": "stdout",
          "text": [
            "id\n",
            "2         33.0\n",
            "8         24.0\n",
            "26        31.0\n",
            "30        28.0\n",
            "32        25.0\n",
            "          ... \n",
            "140685    27.0\n",
            "140686    27.0\n",
            "140689    31.0\n",
            "140690    18.0\n",
            "140699    27.0\n",
            "Name: Age, Length: 27901, dtype: float64\n",
            "id\n",
            "2         1\n",
            "8         0\n",
            "26        0\n",
            "30        1\n",
            "32        0\n",
            "         ..\n",
            "140685    0\n",
            "140686    0\n",
            "140689    0\n",
            "140690    1\n",
            "140699    1\n",
            "Name: Depression, Length: 27901, dtype: int64\n",
            "    Gender   Age           City Profession  Academic Pressure  Work Pressure  \\\n",
            "id                                                                             \n",
            "2     Male  33.0  Visakhapatnam    Student                5.0            0.0   \n",
            "8   Female  24.0      Bangalore    Student                2.0            0.0   \n",
            "26    Male  31.0       Srinagar    Student                3.0            0.0   \n",
            "\n",
            "    CGPA  Study Satisfaction  Job Satisfaction     Sleep Duration  \\\n",
            "id                                                                  \n",
            "2   8.97                 2.0               0.0          5-6 hours   \n",
            "8   5.90                 5.0               0.0          5-6 hours   \n",
            "26  7.03                 5.0               0.0  Less than 5 hours   \n",
            "\n",
            "   Dietary Habits   Degree Have you ever had suicidal thoughts ?  \\\n",
            "id                                                                 \n",
            "2         Healthy  B.Pharm                                   Yes   \n",
            "8        Moderate      BSc                                    No   \n",
            "26        Healthy       BA                                    No   \n",
            "\n",
            "    Work/Study Hours  Financial Stress Family History of Mental Illness  \\\n",
            "id                                                                        \n",
            "2                3.0               1.0                               No   \n",
            "8                3.0               2.0                              Yes   \n",
            "26               9.0               1.0                              Yes   \n",
            "\n",
            "    Depression  \n",
            "id              \n",
            "2            1  \n",
            "8            0  \n",
            "26           0  \n",
            "Age             19.0\n",
            "Gender        Female\n",
            "Depression         0\n",
            "Name: 100, dtype: object\n"
          ]
        }
      ],
      "source": [
        "# столбец Age\n",
        "print(df[\"Age\"])\n",
        "# столбец Depression\n",
        "print(df[\"Depression\"])\n",
        "# первые 3 строки датафрейма\n",
        "print(df.head(3))\n",
        "# строка 100 столбцы Age, Gender, Depression\n",
        "print(df.loc[100, [\"Age\", \"Gender\", \"Depression\"]])"
      ]
    },
    {
      "cell_type": "markdown",
      "metadata": {
        "id": "vF-ZGyVcefbu"
      },
      "source": [
        "* группировка и агрегация данных в таблице;"
      ]
    },
    {
      "cell_type": "code",
      "execution_count": null,
      "metadata": {
        "colab": {
          "base_uri": "https://localhost:8080/"
        },
        "id": "uKoegFTkefbu",
        "outputId": "3e034fa5-6ee4-4cef-9410-9dbe8980a506"
      },
      "outputs": [
        {
          "output_type": "stream",
          "name": "stdout",
          "text": [
            "['5-6 hours' 'Less than 5 hours' '7-8 hours' 'More than 8 hours' 'Others']\n",
            "5-6 hours count = 6183\n",
            "Less than 5 hours count = 8310\n",
            "7-8 hours count = 7346\n",
            "More than 8 hours count = 6044\n",
            "Others count = 18\n",
            "Total count = 27901\n",
            "  Have you ever had suicidal thoughts ?  Depression  Count\n",
            "0                                    No           0   7866\n",
            "1                                    No           1   2379\n",
            "2                                   Yes           0   3699\n",
            "3                                   Yes           1  13957\n",
            "  Family History of Mental Illness  Depression  Count\n",
            "0                               No           0   6335\n",
            "1                               No           1   8063\n",
            "2                              Yes           0   5230\n",
            "3                              Yes           1   8273\n"
          ]
        }
      ],
      "source": [
        "# смотрим уникальные значения столбца \"Sleep Duration\"\n",
        "sleep_values = df[\"Sleep Duration\"].unique()\n",
        "print(sleep_values)\n",
        "\n",
        "# считаем количество строк, соответсвующих каждому значению \"Sleep Duration\"\n",
        "sleep_total = 0\n",
        "for sleep_value in sleep_values:\n",
        "    count = df[df[\"Sleep Duration\"] == sleep_value].shape[0]\n",
        "    sleep_total += count\n",
        "    print(sleep_value, \"count =\", count)\n",
        "# считаем сколько всего строк содержат значения в столбце \"Sleep Duration\"\n",
        "print(\"Total count =\", sleep_total)\n",
        "\n",
        "# группируем строки по значениям столбцов \"Have you ever had suicidal thoughts ?\"\n",
        "# и \"Depression\" и считаем количество\n",
        "print(df.groupby([\"Have you ever had suicidal thoughts ?\", \"Depression\"]).size().reset_index(name=\"Count\"))\n",
        "# группируем строки по значениям столбцов \"Family History of Mental Illness\"\n",
        "# и \"Depression\" и считаем количество\n",
        "print(df.groupby([\"Family History of Mental Illness\", \"Depression\"]).size().reset_index(name=\"Count\"))\n"
      ]
    },
    {
      "cell_type": "markdown",
      "metadata": {
        "id": "xbMWNxLPefbu"
      },
      "source": [
        "* сортировка данных в таблице;"
      ]
    },
    {
      "cell_type": "code",
      "execution_count": null,
      "metadata": {
        "colab": {
          "base_uri": "https://localhost:8080/"
        },
        "id": "Wkc07rz3efbv",
        "outputId": "d6e801e1-1c09-4eef-ca84-ba166c210a15"
      },
      "outputs": [
        {
          "output_type": "stream",
          "name": "stdout",
          "text": [
            "        Gender   Age  Financial Stress  Depression\n",
            "id                                                \n",
            "45903     Male  18.0               1.0           0\n",
            "49784   Female  18.0               1.0           1\n",
            "137980  Female  18.0               4.0           1\n",
            "26400     Male  18.0               4.0           1\n",
            "26392     Male  18.0               2.0           1\n",
            "       Gender   Age  Financial Stress  Depression\n",
            "id                                               \n",
            "22004  Female  51.0               5.0           0\n",
            "68441    Male  54.0               3.0           0\n",
            "74887  Female  56.0               5.0           0\n",
            "14768  Female  58.0               4.0           0\n",
            "46602    Male  59.0               4.0           0\n"
          ]
        }
      ],
      "source": [
        "# сортируем датафрейм по возрасту (только столбцы \"Gender\", \"Age\", \"Depression\")\n",
        "sorted_df = df[[\"Gender\", \"Age\", \"Financial Stress\", \"Depression\"]].sort_values(by=\"Age\")\n",
        "# выводим первые 5 строк\n",
        "print(sorted_df.head())\n",
        "# и последние 5 строк отсортированного датафрейма\n",
        "print(sorted_df.tail())"
      ]
    },
    {
      "cell_type": "markdown",
      "metadata": {
        "id": "Yjny8p1-efbv"
      },
      "source": [
        "* удаление строк/столбцов;"
      ]
    },
    {
      "cell_type": "code",
      "execution_count": null,
      "metadata": {
        "colab": {
          "base_uri": "https://localhost:8080/"
        },
        "id": "We8NaIp2efbv",
        "outputId": "3868f08a-5df5-4841-9d28-ceeecfd786b4"
      },
      "outputs": [
        {
          "output_type": "stream",
          "name": "stdout",
          "text": [
            "         Age  Financial Stress  Depression\n",
            "id                                        \n",
            "45903   18.0               1.0           0\n",
            "49784   18.0               1.0           1\n",
            "137980  18.0               4.0           1\n",
            "26400   18.0               4.0           1\n",
            "26392   18.0               2.0           1\n",
            "        Gender   Age  Financial Stress  Depression\n",
            "id                                                \n",
            "14795     Male  19.0               5.0           1\n",
            "130088    Male  19.0               2.0           0\n",
            "134182  Female  19.0               5.0           1\n",
            "129639    Male  19.0               3.0           0\n",
            "23262     Male  19.0               1.0           1\n"
          ]
        }
      ],
      "source": [
        "# удаляем столбец \"Gender\"\n",
        "print(sorted_df.drop(\"Gender\",axis=1).head())\n",
        "# удаляем все записи (строки) о 18-летних\n",
        "print(sorted_df.drop(sorted_df[sorted_df[\"Age\"] == 18].index, axis=0).head())"
      ]
    },
    {
      "cell_type": "markdown",
      "metadata": {
        "id": "y3xsCzRxefbv"
      },
      "source": [
        "* удаление строк с пустыми значениями;"
      ]
    },
    {
      "cell_type": "code",
      "execution_count": null,
      "metadata": {
        "colab": {
          "base_uri": "https://localhost:8080/"
        },
        "id": "rFv-TZU3efbw",
        "outputId": "93d48ed2-ce56-4092-c136-a3483c9ad1ee"
      },
      "outputs": [
        {
          "output_type": "stream",
          "name": "stdout",
          "text": [
            "       Gender   Age  Financial Stress Depression\n",
            "0        Male  18.0               1.0          0\n",
            "1      Female  18.0               1.0          1\n",
            "2      Female  18.0               4.0          1\n",
            "3        Male  18.0               4.0          1\n",
            "4        Male  18.0               2.0          1\n",
            "...       ...   ...               ...        ...\n",
            "27898  Female  56.0               5.0          0\n",
            "27899  Female  58.0               4.0          0\n",
            "27900    Male  59.0               4.0          0\n",
            "27901    Male   NaN               NaN        Yes\n",
            "27902  Female   NaN               NaN         No\n",
            "\n",
            "[27903 rows x 4 columns]\n",
            "       Gender   Age  Financial Stress Depression\n",
            "4830   Female  20.0               NaN          0\n",
            "20206    Male  29.0               NaN          0\n",
            "23658  Female  32.0               NaN          1\n",
            "27901    Male   NaN               NaN        Yes\n",
            "27902  Female   NaN               NaN         No\n",
            "       Gender   Age  Financial Stress Depression\n",
            "22965    Male  31.0               5.0          0\n",
            "6324   Female  21.0               5.0          1\n",
            "4830   Female  20.0               NaN          0\n",
            "20206    Male  29.0               NaN          0\n",
            "23658  Female  32.0               NaN          1\n"
          ]
        }
      ],
      "source": [
        "data = sorted_df.copy()\n",
        "\n",
        "# Добавляем строку с пустым значением Age. Способ №1\n",
        "new_row = pd.DataFrame({\"Gender\" : [\"Male\"], \"Depression\" : [\"Yes\"]})\n",
        "data = pd.concat([data, new_row], ignore_index=True)\n",
        "# Добавляем строку с пустым значением. Способ №2\n",
        "data.loc[len(data)] = [\"Female\", np.nan, np.nan, \"No\"]\n",
        "\n",
        "print(data)\n",
        "data.sort_values(by=\"Financial Stress\", inplace=True)\n",
        "print(data.tail())\n",
        "# удаление строк с пустыми значениями Age\n",
        "data.dropna(subset=[\"Age\"], inplace=True)\n",
        "print(data.tail())\n",
        "# удаление строк с пустыми значениями Financial Stress\n",
        "#data.dropna(subset=[\"Financial Stress\"], inplace=True)\n",
        "#print(data.tail())"
      ]
    },
    {
      "cell_type": "markdown",
      "metadata": {
        "id": "FDVfWaOhefbw"
      },
      "source": [
        "* заполнение пустых значений на основе существующих данных."
      ]
    },
    {
      "cell_type": "code",
      "execution_count": null,
      "metadata": {
        "colab": {
          "base_uri": "https://localhost:8080/",
          "height": 206
        },
        "id": "9CBij2xuefbw",
        "outputId": "7463701a-5b50-4ca0-f8ec-bf7a51208932"
      },
      "outputs": [
        {
          "output_type": "execute_result",
          "data": {
            "text/plain": [
              "       Gender   Age  Financial Stress Depression\n",
              "6324   Female  21.0               5.0          1\n",
              "4830   Female  20.0               5.0          0\n",
              "20206    Male  29.0               5.0          0\n",
              "23658  Female  32.0               5.0          1\n",
              "27901    Male  32.0               5.0        Yes"
            ],
            "text/html": [
              "\n",
              "  <div id=\"df-349da62c-e865-4e0c-b421-8cca8e4b96f5\" class=\"colab-df-container\">\n",
              "    <div>\n",
              "<style scoped>\n",
              "    .dataframe tbody tr th:only-of-type {\n",
              "        vertical-align: middle;\n",
              "    }\n",
              "\n",
              "    .dataframe tbody tr th {\n",
              "        vertical-align: top;\n",
              "    }\n",
              "\n",
              "    .dataframe thead th {\n",
              "        text-align: right;\n",
              "    }\n",
              "</style>\n",
              "<table border=\"1\" class=\"dataframe\">\n",
              "  <thead>\n",
              "    <tr style=\"text-align: right;\">\n",
              "      <th></th>\n",
              "      <th>Gender</th>\n",
              "      <th>Age</th>\n",
              "      <th>Financial Stress</th>\n",
              "      <th>Depression</th>\n",
              "    </tr>\n",
              "  </thead>\n",
              "  <tbody>\n",
              "    <tr>\n",
              "      <th>6324</th>\n",
              "      <td>Female</td>\n",
              "      <td>21.0</td>\n",
              "      <td>5.0</td>\n",
              "      <td>1</td>\n",
              "    </tr>\n",
              "    <tr>\n",
              "      <th>4830</th>\n",
              "      <td>Female</td>\n",
              "      <td>20.0</td>\n",
              "      <td>5.0</td>\n",
              "      <td>0</td>\n",
              "    </tr>\n",
              "    <tr>\n",
              "      <th>20206</th>\n",
              "      <td>Male</td>\n",
              "      <td>29.0</td>\n",
              "      <td>5.0</td>\n",
              "      <td>0</td>\n",
              "    </tr>\n",
              "    <tr>\n",
              "      <th>23658</th>\n",
              "      <td>Female</td>\n",
              "      <td>32.0</td>\n",
              "      <td>5.0</td>\n",
              "      <td>1</td>\n",
              "    </tr>\n",
              "    <tr>\n",
              "      <th>27901</th>\n",
              "      <td>Male</td>\n",
              "      <td>32.0</td>\n",
              "      <td>5.0</td>\n",
              "      <td>Yes</td>\n",
              "    </tr>\n",
              "  </tbody>\n",
              "</table>\n",
              "</div>\n",
              "    <div class=\"colab-df-buttons\">\n",
              "\n",
              "  <div class=\"colab-df-container\">\n",
              "    <button class=\"colab-df-convert\" onclick=\"convertToInteractive('df-349da62c-e865-4e0c-b421-8cca8e4b96f5')\"\n",
              "            title=\"Convert this dataframe to an interactive table.\"\n",
              "            style=\"display:none;\">\n",
              "\n",
              "  <svg xmlns=\"http://www.w3.org/2000/svg\" height=\"24px\" viewBox=\"0 -960 960 960\">\n",
              "    <path d=\"M120-120v-720h720v720H120Zm60-500h600v-160H180v160Zm220 220h160v-160H400v160Zm0 220h160v-160H400v160ZM180-400h160v-160H180v160Zm440 0h160v-160H620v160ZM180-180h160v-160H180v160Zm440 0h160v-160H620v160Z\"/>\n",
              "  </svg>\n",
              "    </button>\n",
              "\n",
              "  <style>\n",
              "    .colab-df-container {\n",
              "      display:flex;\n",
              "      gap: 12px;\n",
              "    }\n",
              "\n",
              "    .colab-df-convert {\n",
              "      background-color: #E8F0FE;\n",
              "      border: none;\n",
              "      border-radius: 50%;\n",
              "      cursor: pointer;\n",
              "      display: none;\n",
              "      fill: #1967D2;\n",
              "      height: 32px;\n",
              "      padding: 0 0 0 0;\n",
              "      width: 32px;\n",
              "    }\n",
              "\n",
              "    .colab-df-convert:hover {\n",
              "      background-color: #E2EBFA;\n",
              "      box-shadow: 0px 1px 2px rgba(60, 64, 67, 0.3), 0px 1px 3px 1px rgba(60, 64, 67, 0.15);\n",
              "      fill: #174EA6;\n",
              "    }\n",
              "\n",
              "    .colab-df-buttons div {\n",
              "      margin-bottom: 4px;\n",
              "    }\n",
              "\n",
              "    [theme=dark] .colab-df-convert {\n",
              "      background-color: #3B4455;\n",
              "      fill: #D2E3FC;\n",
              "    }\n",
              "\n",
              "    [theme=dark] .colab-df-convert:hover {\n",
              "      background-color: #434B5C;\n",
              "      box-shadow: 0px 1px 3px 1px rgba(0, 0, 0, 0.15);\n",
              "      filter: drop-shadow(0px 1px 2px rgba(0, 0, 0, 0.3));\n",
              "      fill: #FFFFFF;\n",
              "    }\n",
              "  </style>\n",
              "\n",
              "    <script>\n",
              "      const buttonEl =\n",
              "        document.querySelector('#df-349da62c-e865-4e0c-b421-8cca8e4b96f5 button.colab-df-convert');\n",
              "      buttonEl.style.display =\n",
              "        google.colab.kernel.accessAllowed ? 'block' : 'none';\n",
              "\n",
              "      async function convertToInteractive(key) {\n",
              "        const element = document.querySelector('#df-349da62c-e865-4e0c-b421-8cca8e4b96f5');\n",
              "        const dataTable =\n",
              "          await google.colab.kernel.invokeFunction('convertToInteractive',\n",
              "                                                    [key], {});\n",
              "        if (!dataTable) return;\n",
              "\n",
              "        const docLinkHtml = 'Like what you see? Visit the ' +\n",
              "          '<a target=\"_blank\" href=https://colab.research.google.com/notebooks/data_table.ipynb>data table notebook</a>'\n",
              "          + ' to learn more about interactive tables.';\n",
              "        element.innerHTML = '';\n",
              "        dataTable['output_type'] = 'display_data';\n",
              "        await google.colab.output.renderOutput(dataTable, element);\n",
              "        const docLink = document.createElement('div');\n",
              "        docLink.innerHTML = docLinkHtml;\n",
              "        element.appendChild(docLink);\n",
              "      }\n",
              "    </script>\n",
              "  </div>\n",
              "\n",
              "\n",
              "<div id=\"df-a983cca0-f064-4b67-bfea-9cb99f58bcaf\">\n",
              "  <button class=\"colab-df-quickchart\" onclick=\"quickchart('df-a983cca0-f064-4b67-bfea-9cb99f58bcaf')\"\n",
              "            title=\"Suggest charts\"\n",
              "            style=\"display:none;\">\n",
              "\n",
              "<svg xmlns=\"http://www.w3.org/2000/svg\" height=\"24px\"viewBox=\"0 0 24 24\"\n",
              "     width=\"24px\">\n",
              "    <g>\n",
              "        <path d=\"M19 3H5c-1.1 0-2 .9-2 2v14c0 1.1.9 2 2 2h14c1.1 0 2-.9 2-2V5c0-1.1-.9-2-2-2zM9 17H7v-7h2v7zm4 0h-2V7h2v10zm4 0h-2v-4h2v4z\"/>\n",
              "    </g>\n",
              "</svg>\n",
              "  </button>\n",
              "\n",
              "<style>\n",
              "  .colab-df-quickchart {\n",
              "      --bg-color: #E8F0FE;\n",
              "      --fill-color: #1967D2;\n",
              "      --hover-bg-color: #E2EBFA;\n",
              "      --hover-fill-color: #174EA6;\n",
              "      --disabled-fill-color: #AAA;\n",
              "      --disabled-bg-color: #DDD;\n",
              "  }\n",
              "\n",
              "  [theme=dark] .colab-df-quickchart {\n",
              "      --bg-color: #3B4455;\n",
              "      --fill-color: #D2E3FC;\n",
              "      --hover-bg-color: #434B5C;\n",
              "      --hover-fill-color: #FFFFFF;\n",
              "      --disabled-bg-color: #3B4455;\n",
              "      --disabled-fill-color: #666;\n",
              "  }\n",
              "\n",
              "  .colab-df-quickchart {\n",
              "    background-color: var(--bg-color);\n",
              "    border: none;\n",
              "    border-radius: 50%;\n",
              "    cursor: pointer;\n",
              "    display: none;\n",
              "    fill: var(--fill-color);\n",
              "    height: 32px;\n",
              "    padding: 0;\n",
              "    width: 32px;\n",
              "  }\n",
              "\n",
              "  .colab-df-quickchart:hover {\n",
              "    background-color: var(--hover-bg-color);\n",
              "    box-shadow: 0 1px 2px rgba(60, 64, 67, 0.3), 0 1px 3px 1px rgba(60, 64, 67, 0.15);\n",
              "    fill: var(--button-hover-fill-color);\n",
              "  }\n",
              "\n",
              "  .colab-df-quickchart-complete:disabled,\n",
              "  .colab-df-quickchart-complete:disabled:hover {\n",
              "    background-color: var(--disabled-bg-color);\n",
              "    fill: var(--disabled-fill-color);\n",
              "    box-shadow: none;\n",
              "  }\n",
              "\n",
              "  .colab-df-spinner {\n",
              "    border: 2px solid var(--fill-color);\n",
              "    border-color: transparent;\n",
              "    border-bottom-color: var(--fill-color);\n",
              "    animation:\n",
              "      spin 1s steps(1) infinite;\n",
              "  }\n",
              "\n",
              "  @keyframes spin {\n",
              "    0% {\n",
              "      border-color: transparent;\n",
              "      border-bottom-color: var(--fill-color);\n",
              "      border-left-color: var(--fill-color);\n",
              "    }\n",
              "    20% {\n",
              "      border-color: transparent;\n",
              "      border-left-color: var(--fill-color);\n",
              "      border-top-color: var(--fill-color);\n",
              "    }\n",
              "    30% {\n",
              "      border-color: transparent;\n",
              "      border-left-color: var(--fill-color);\n",
              "      border-top-color: var(--fill-color);\n",
              "      border-right-color: var(--fill-color);\n",
              "    }\n",
              "    40% {\n",
              "      border-color: transparent;\n",
              "      border-right-color: var(--fill-color);\n",
              "      border-top-color: var(--fill-color);\n",
              "    }\n",
              "    60% {\n",
              "      border-color: transparent;\n",
              "      border-right-color: var(--fill-color);\n",
              "    }\n",
              "    80% {\n",
              "      border-color: transparent;\n",
              "      border-right-color: var(--fill-color);\n",
              "      border-bottom-color: var(--fill-color);\n",
              "    }\n",
              "    90% {\n",
              "      border-color: transparent;\n",
              "      border-bottom-color: var(--fill-color);\n",
              "    }\n",
              "  }\n",
              "</style>\n",
              "\n",
              "  <script>\n",
              "    async function quickchart(key) {\n",
              "      const quickchartButtonEl =\n",
              "        document.querySelector('#' + key + ' button');\n",
              "      quickchartButtonEl.disabled = true;  // To prevent multiple clicks.\n",
              "      quickchartButtonEl.classList.add('colab-df-spinner');\n",
              "      try {\n",
              "        const charts = await google.colab.kernel.invokeFunction(\n",
              "            'suggestCharts', [key], {});\n",
              "      } catch (error) {\n",
              "        console.error('Error during call to suggestCharts:', error);\n",
              "      }\n",
              "      quickchartButtonEl.classList.remove('colab-df-spinner');\n",
              "      quickchartButtonEl.classList.add('colab-df-quickchart-complete');\n",
              "    }\n",
              "    (() => {\n",
              "      let quickchartButtonEl =\n",
              "        document.querySelector('#df-a983cca0-f064-4b67-bfea-9cb99f58bcaf button');\n",
              "      quickchartButtonEl.style.display =\n",
              "        google.colab.kernel.accessAllowed ? 'block' : 'none';\n",
              "    })();\n",
              "  </script>\n",
              "</div>\n",
              "    </div>\n",
              "  </div>\n"
            ],
            "application/vnd.google.colaboratory.intrinsic+json": {
              "type": "dataframe",
              "summary": "{\n  \"name\": \"#data = data\",\n  \"rows\": 5,\n  \"fields\": [\n    {\n      \"column\": \"Gender\",\n      \"properties\": {\n        \"dtype\": \"category\",\n        \"num_unique_values\": 2,\n        \"samples\": [\n          \"Male\",\n          \"Female\"\n        ],\n        \"semantic_type\": \"\",\n        \"description\": \"\"\n      }\n    },\n    {\n      \"column\": \"Age\",\n      \"properties\": {\n        \"dtype\": \"number\",\n        \"std\": 5.890670590009257,\n        \"min\": 20.0,\n        \"max\": 32.0,\n        \"num_unique_values\": 4,\n        \"samples\": [\n          20.0,\n          32.0\n        ],\n        \"semantic_type\": \"\",\n        \"description\": \"\"\n      }\n    },\n    {\n      \"column\": \"Financial Stress\",\n      \"properties\": {\n        \"dtype\": \"number\",\n        \"std\": 0.0,\n        \"min\": 5.0,\n        \"max\": 5.0,\n        \"num_unique_values\": 1,\n        \"samples\": [\n          5.0\n        ],\n        \"semantic_type\": \"\",\n        \"description\": \"\"\n      }\n    },\n    {\n      \"column\": \"Depression\",\n      \"properties\": {\n        \"dtype\": \"string\",\n        \"num_unique_values\": 3,\n        \"samples\": [\n          1\n        ],\n        \"semantic_type\": \"\",\n        \"description\": \"\"\n      }\n    }\n  ]\n}"
            }
          },
          "metadata": {},
          "execution_count": 10
        }
      ],
      "source": [
        "# добавление строки с пустым значением Age\n",
        "data.loc[len(data)] = [\"Male\", np.nan, np.nan, \"Yes\"]\n",
        "data.tail()\n",
        "# заполнение пустых значений на основе предыдущих\n",
        "data = data.ffill()\n",
        "data.tail()\n",
        "#data = data.drop(axis=0, index=len(data)-1)"
      ]
    },
    {
      "cell_type": "markdown",
      "metadata": {
        "id": "EqZiXoXpefbw"
      },
      "source": [
        "5. Разобраться с основными возможностями для визуализации данных:\n",
        "\n",
        "* линейная диаграмма (plot);"
      ]
    },
    {
      "cell_type": "code",
      "execution_count": null,
      "metadata": {
        "id": "aF4JYxpKefbw",
        "colab": {
          "base_uri": "https://localhost:8080/",
          "height": 466
        },
        "outputId": "27efbb19-21f2-4335-9e06-01e5733cc9d7"
      },
      "outputs": [
        {
          "output_type": "execute_result",
          "data": {
            "text/plain": [
              "<Axes: xlabel='Work/Study Hours'>"
            ]
          },
          "metadata": {},
          "execution_count": 12
        },
        {
          "output_type": "display_data",
          "data": {
            "text/plain": [
              "<Figure size 640x480 with 1 Axes>"
            ],
            "image/png": "[encoded data removed]"
          },
          "metadata": {}
        }
      ],
      "source": [
        "plot_data = df[[\"Age\", \"Gender\", \"Work/Study Hours\", \"Financial Stress\", \"Depression\"]].copy()\n",
        "plot_data.groupby([\"Work/Study Hours\"]).size().plot.line()"
      ]
    },
    {
      "cell_type": "markdown",
      "metadata": {
        "id": "AUUIRrIWefbw"
      },
      "source": [
        "* гистограмма (hist);"
      ]
    },
    {
      "cell_type": "code",
      "execution_count": null,
      "metadata": {
        "colab": {
          "base_uri": "https://localhost:8080/",
          "height": 734
        },
        "id": "x0ArYpJwefbw",
        "outputId": "f37c2745-c15f-4711-f2f2-07b8f982b84d"
      },
      "outputs": [
        {
          "output_type": "execute_result",
          "data": {
            "text/plain": [
              "array([<Axes: title={'center': 'Female'}, ylabel='Frequency'>,\n",
              "       <Axes: title={'center': 'Male'}, ylabel='Frequency'>], dtype=object)"
            ]
          },
          "metadata": {},
          "execution_count": 26
        },
        {
          "output_type": "display_data",
          "data": {
            "text/plain": [
              "<Figure size 1100x800 with 2 Axes>"
            ],
            "image/png": "[encoded data removed]"
          },
          "metadata": {}
        }
      ],
      "source": [
        "# строим гистограмму\n",
        "plot_data.plot.hist(column='Age', by=\"Gender\", bins=40, figsize=(11, 8))"
      ]
    },
    {
      "cell_type": "markdown",
      "metadata": {
        "id": "wxxJ--o1efbx"
      },
      "source": [
        "* столбчатая диаграмма (bar);"
      ]
    },
    {
      "cell_type": "code",
      "execution_count": null,
      "metadata": {
        "colab": {
          "base_uri": "https://localhost:8080/",
          "height": 503
        },
        "id": "udK0dopaefbx",
        "outputId": "bfcf6a0a-c8a0-4745-8e4d-1f2a6a542e0f"
      },
      "outputs": [
        {
          "output_type": "execute_result",
          "data": {
            "text/plain": [
              "<Axes: xlabel='Gender'>"
            ]
          },
          "metadata": {},
          "execution_count": 27
        },
        {
          "output_type": "display_data",
          "data": {
            "text/plain": [
              "<Figure size 640x480 with 1 Axes>"
            ],
            "image/png": "[encoded data removed]"
          },
          "metadata": {}
        }
      ],
      "source": [
        "plot_data.groupby([\"Gender\", \"Depression\"]).size().unstack().plot.bar(color=[\"green\", \"red\"])"
      ]
    },
    {
      "cell_type": "markdown",
      "metadata": {
        "id": "2hblU-VJefbx"
      },
      "source": [
        "* ящик с усами (box);"
      ]
    },
    {
      "cell_type": "code",
      "execution_count": null,
      "metadata": {
        "colab": {
          "base_uri": "https://localhost:8080/",
          "height": 956
        },
        "id": "894q5oUWefbx",
        "outputId": "22fc7e21-31d4-4d61-c5d4-f2e924f32440"
      },
      "outputs": [
        {
          "output_type": "execute_result",
          "data": {
            "text/plain": [
              "<Axes: title={'center': 'Financial Stress'}, xlabel='Depression'>"
            ]
          },
          "metadata": {},
          "execution_count": 28
        },
        {
          "output_type": "display_data",
          "data": {
            "text/plain": [
              "<Figure size 640x480 with 1 Axes>"
            ],
            "image/png": "[encoded data removed]"
          },
          "metadata": {}
        },
        {
          "output_type": "display_data",
          "data": {
            "text/plain": [
              "<Figure size 640x480 with 1 Axes>"
            ],
            "image/png": "[encoded data removed]"
          },
          "metadata": {}
        }
      ],
      "source": [
        "plot_data.boxplot(column=\"Age\", by=\"Depression\")\n",
        "plot_data.boxplot(column=\"Financial Stress\", by=\"Depression\")"
      ]
    },
    {
      "cell_type": "markdown",
      "metadata": {
        "id": "S8mjE3hXefbx"
      },
      "source": [
        "* диаграмма рассеяния (scatter)."
      ]
    },
    {
      "cell_type": "code",
      "source": [
        "plot_data.plot.scatter(x=\"Age\", y=\"Gender\")\n",
        "plot_data.plot.scatter(x=\"Age\", y=\"Work/Study Hours\")"
      ],
      "metadata": {
        "colab": {
          "base_uri": "https://localhost:8080/",
          "height": 898
        },
        "id": "_lWJaFrJffsR",
        "outputId": "c55f52d3-a1bb-43c6-8d04-62bfd6a54065"
      },
      "execution_count": null,
      "outputs": [
        {
          "output_type": "execute_result",
          "data": {
            "text/plain": [
              "<Axes: xlabel='Age', ylabel='Work/Study Hours'>"
            ]
          },
          "metadata": {},
          "execution_count": 30
        },
        {
          "output_type": "display_data",
          "data": {
            "text/plain": [
              "<Figure size 640x480 with 1 Axes>"
            ],
            "image/png": "[encoded data removed]"
          },
          "metadata": {}
        },
        {
          "output_type": "display_data",
          "data": {
            "text/plain": [
              "<Figure size 640x480 with 1 Axes>"
            ],
            "image/png": "[encoded data removed]"
          },
          "metadata": {}
        }
      ]
    }
  ],
  "metadata": {
    "kernelspec": {
      "display_name": "Python 3",
      "language": "python",
      "name": "python3"
    },
    "language_info": {
      "codemirror_mode": {
        "name": "ipython",
        "version": 3
      },
      "file_extension": ".py",
      "mimetype": "text/x-python",
      "name": "python",
      "nbconvert_exporter": "python",
      "pygments_lexer": "ipython3",
      "version": "3.11.2"
    },
    "colab": {
      "provenance": [],
      "include_colab_link": true
    }
  },
  "nbformat": 4,
  "nbformat_minor": 0
}